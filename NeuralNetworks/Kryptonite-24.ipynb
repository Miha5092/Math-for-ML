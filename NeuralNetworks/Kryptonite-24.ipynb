{
 "cells": [
  {
   "cell_type": "markdown",
   "metadata": {},
   "source": [
    "## Initial setup"
   ]
  },
  {
   "cell_type": "code",
   "execution_count": 12,
   "metadata": {},
   "outputs": [],
   "source": [
    "import numpy as np\n",
    "import pandas as pd\n",
    "import matplotlib.pyplot as plt\n",
    "import torch\n",
    "import random\n",
    "\n",
    "import matplotlib.pyplot as plt\n",
    "\n",
    "from torch import nn\n",
    "from torch.utils.data import DataLoader, ConcatDataset\n",
    "from torchvision.transforms import ToTensor\n",
    "from sklearn.model_selection import KFold\n",
    "from sklearn.model_selection import train_test_split\n",
    "from sklearn.preprocessing import StandardScaler\n"
   ]
  },
  {
   "cell_type": "code",
   "execution_count": 13,
   "metadata": {},
   "outputs": [
    {
     "name": "stdout",
     "output_type": "stream",
     "text": [
      "Using device: cuda\n"
     ]
    }
   ],
   "source": [
    "seed = 42\n",
    "feature_size = 24\n",
    "baseline_accuracy = 0.8\n",
    "\n",
    "device = torch.device('cuda' if torch.cuda.is_available() else 'cpu')\n",
    "print('Using device:', device)\n",
    "\n",
    "random.seed(seed)\n",
    "torch_seed = random.randint(0, 2 ** 32 - 1)\n",
    "numpy_seed = random.randint(0, 2 ** 32 - 1)\n",
    "torch.manual_seed(torch_seed)\n",
    "torch.cuda.manual_seed(torch_seed)\n",
    "np.random.seed(numpy_seed)"
   ]
  },
  {
   "cell_type": "markdown",
   "metadata": {},
   "source": [
    "## Model"
   ]
  },
  {
   "cell_type": "markdown",
   "metadata": {},
   "source": [
    "## Model"
   ]
  },
  {
   "cell_type": "code",
   "execution_count": null,
   "metadata": {},
   "outputs": [],
   "source": [
    "class SoftMaxNeuralNetwork(nn.Module):\n",
    "    def __init__(self, input_size: int, layer_size: int = 64):\n",
    "        super().__init__()\n",
    "\n",
    "        self.layers = nn.Sequential(\n",
    "            nn.Linear(input_size, layer_size),\n",
    "            nn.ReLU(),\n",
    "            nn.Linear(layer_size, layer_size),\n",
    "            nn.ReLU(),\n",
    "            nn.Linear(layer_size, 2),\n",
    "            nn.Softmax(dim=1)\n",
    "        )\n",
    "\n",
    "    def forward(self, x):\n",
    "        return self.layers(x)\n",
    "    \n",
    "    def clasiffy(self, x):\n",
    "        return torch.argmax(self.forward(x), dim=1)\n",
    "    \n",
    "class SigmoidNeuralNetwork(nn.Module):\n",
    "    def __init__(self, input_size: int, layer_size: int = 64):\n",
    "        super().__init__()\n",
    "\n",
    "        self.layers = nn.Sequential(\n",
    "            nn.Linear(input_size, layer_size),\n",
    "            nn.ReLU(),\n",
    "            nn.Linear(layer_size, layer_size),\n",
    "            nn.ReLU(),\n",
    "            nn.Linear(layer_size, 1),\n",
    "        )\n",
    "\n",
    "    def forward(self, x):\n",
    "        return self.layers(x).view(-1)\n",
    "    \n",
    "    def clasiffy(self, x):\n",
    "        return torch.round(nn.Sigmoid()(self.forward(x))).view(-1)"
   ]
  },
  {
   "cell_type": "code",
   "execution_count": 15,
   "metadata": {},
   "outputs": [],
   "source": [
    "class SoftMaxNeuralNetwork(nn.Module):\n",
    "    def __init__(self, input_size: int, layer_size: int = 64):\n",
    "        super().__init__()\n",
    "\n",
    "        self.layers = nn.Sequential(\n",
    "            nn.Linear(input_size, layer_size),\n",
    "            nn.ReLU(),\n",
    "            nn.Linear(layer_size, layer_size),\n",
    "            nn.ReLU(),\n",
    "            nn.Linear(layer_size, 2),\n",
    "            nn.Softmax(dim=1)\n",
    "        )\n",
    "\n",
    "    def forward(self, x):\n",
    "        return self.layers(x)\n",
    "    \n",
    "    def clasiffy(self, x):\n",
    "        return torch.argmax(self.forward(x), dim=1)\n",
    "    \n",
    "class SigmoidNeuralNetwork(nn.Module):\n",
    "    def __init__(self, input_size: int, layer_size: int = 64):\n",
    "        super().__init__()\n",
    "\n",
    "        self.layers = nn.Sequential(\n",
    "            nn.Linear(input_size, layer_size),\n",
    "            nn.ReLU(),\n",
    "            nn.Linear(layer_size, layer_size),\n",
    "            nn.ReLU(),\n",
    "            nn.Linear(layer_size, 1),\n",
    "        )\n",
    "\n",
    "    def forward(self, x):\n",
    "        return self.layers(x).view(-1)\n",
    "    \n",
    "    def clasiffy(self, x):\n",
    "        return torch.round(nn.Sigmoid()(self.forward(x))).view(-1)"
   ]
  },
  {
   "cell_type": "markdown",
   "metadata": {},
   "source": [
    "## Helper Functions"
   ]
  },
  {
   "cell_type": "markdown",
   "metadata": {},
   "source": [
    "#### Data processing functions"
   ]
  },
  {
   "cell_type": "code",
   "execution_count": 16,
   "metadata": {},
   "outputs": [],
   "source": [
    "def load_data(feature_size: int):\n",
    "    X = np.load('../Datasets/kryptonite-%s-X.npy'%(feature_size))\n",
    "    y = np.load('../Datasets/kryptonite-%s-y.npy'%(feature_size))\n",
    "\n",
    "    X_train, X_test, y_train, y_test = train_test_split(X, y, test_size=0.2, random_state=seed)\n",
    "\n",
    "    scaler = StandardScaler().fit(X_train)\n",
    "\n",
    "    X_train = scaler.transform(X_train)\n",
    "    X_test = scaler.transform(X_test)\n",
    "\n",
    "    return X_train, y_train, X_test, y_test\n",
    "\n",
    "\n",
    "def convert_to_tensor_dataset(X, y):\n",
    "    return torch.utils.data.TensorDataset(torch.tensor(X, dtype=torch.float32).to(device), torch.tensor(y, dtype=torch.float32).to(device))"
   ]
  },
  {
   "cell_type": "markdown",
   "metadata": {},
   "source": [
    "#### Model optimization functions"
   ]
  },
  {
   "cell_type": "code",
   "execution_count": 17,
   "metadata": {},
   "outputs": [],
   "source": [
    "def k_fold(train_dataset, num_folds, num_epochs, learning_rate, batch_size, weight_decay, model_type, layer_size, verbose=False):\n",
    "    assert model_type == 'softmax' or model_type == 'sigmoid'\n",
    "\n",
    "    kfold = KFold(n_splits=num_folds, shuffle=True)\n",
    "\n",
    "    if verbose:\n",
    "        print('Starting k-fold cross validation')\n",
    "        print('---------------------------------------')\n",
    "\n",
    "    fold_no = 0\n",
    "    fold_losses = []\n",
    "    fold_accuracies = []\n",
    "\n",
    "    for train_index, validation_index in kfold.split(train_dataset):\n",
    "        \n",
    "        fold_no += 1\n",
    "\n",
    "        if verbose:\n",
    "            print('Training on fold:', fold_no)\n",
    "\n",
    "        if model_type == 'softmax':\n",
    "            net = SoftMaxNeuralNetwork(feature_size, layer_size).to(device)\n",
    "            loss_fn = nn.CrossEntropyLoss()\n",
    "        else:\n",
    "            net = SigmoidNeuralNetwork(feature_size, layer_size).to(device)\n",
    "            loss_fn = nn.BCEWithLogitsLoss()\n",
    "            \n",
    "        optimizer = torch.optim.Adam(net.parameters(), lr=learning_rate, weight_decay=weight_decay)\n",
    "\n",
    "        train_subsampler = torch.utils.data.SubsetRandomSampler(train_index)\n",
    "        validation_subsampler = torch.utils.data.SubsetRandomSampler(validation_index)\n",
    "\n",
    "        trainloader = torch.utils.data.DataLoader(train_dataset, batch_size=batch_size, sampler=train_subsampler)\n",
    "        validationloader = torch.utils.data.DataLoader(train_dataset,batch_size=batch_size, sampler=validation_subsampler)\n",
    "\n",
    "        epoch_losses = []\n",
    "        epoch_accuracies = []\n",
    "        for epoch in range(num_epochs):\n",
    "            batch_losses = []\n",
    "\n",
    "            for inputs, labels in trainloader:\n",
    "                net.zero_grad()\n",
    "                outputs = net(inputs)\n",
    "                if model_type == 'softmax':\n",
    "                    labels = labels.long()\n",
    "                loss = loss_fn(outputs, labels)\n",
    "\n",
    "                batch_losses.append(loss.item())\n",
    "\n",
    "                loss.backward()\n",
    "                optimizer.step()\n",
    "\n",
    "            epoch_loss = np.mean(batch_losses)\n",
    "            epoch_losses.append(epoch_loss)\n",
    "\n",
    "            with torch.no_grad():\n",
    "                batch_accuracies = []\n",
    "                for inputs, labels in validationloader:\n",
    "                    outputs = net.clasiffy(inputs)\n",
    "                    batch_accuracy = np.mean(outputs.cpu().numpy() == labels.cpu().numpy())\n",
    "                    batch_accuracies.append(batch_accuracy.item())\n",
    "\n",
    "            epoch_accuracy = np.mean(batch_accuracies)\n",
    "            epoch_accuracies.append(epoch_accuracy)\n",
    "\n",
    "            if epoch % 10 == 0 and verbose:\n",
    "                print('Epoch:', epoch + 1, 'Loss:', epoch_losses[-1], 'Accuracy:', epoch_accuracies[-1])\n",
    "\n",
    "        fold_losses.append(epoch_losses)\n",
    "        fold_accuracies.append(epoch_accuracies)\n",
    "\n",
    "    fold_accuracies = np.array(fold_accuracies)\n",
    "    fold_losses = np.array(fold_losses)\n",
    "\n",
    "    if verbose:\n",
    "        print('---------------FINISHED----------------')\n",
    "        print('Accuracies:', fold_accuracies[:, -1])\n",
    "        print('Average accuracy:', np.mean(fold_accuracies, axis=0)[-1])\n",
    "\n",
    "    return np.mean(fold_losses, axis=0), np.mean(fold_accuracies, axis=0)\n",
    "                "
   ]
  },
  {
   "cell_type": "code",
   "execution_count": 18,
   "metadata": {},
   "outputs": [],
   "source": [
    "def grid_search(train_dataset, num_folds, num_epochs, lrs: list, batch_sizes: list, regs: list, model_types: list, layer_sizes: list, verbose=False):\n",
    "    result_map = dict()\n",
    "    \n",
    "    training_accuracies = []\n",
    "    names = []\n",
    "\n",
    "    for lr in lrs:\n",
    "        for batch_size in batch_sizes:\n",
    "            for reg in regs:\n",
    "                for model_type in model_types:\n",
    "                    for layer_size in layer_sizes:\n",
    "                        train_losses, accuracies = k_fold(train_dataset, num_folds, num_epochs, lr, batch_size, reg, model_type, layer_size, verbose)\n",
    "                        model_name = f\"{model_type} model, {layer_size} neurons, Learning Rate {lr}, Batch Size {batch_size}, Regularization {reg}\"\n",
    "                        result_map[model_name] = accuracies[-1]\n",
    "\n",
    "                        training_accuracies.append(accuracies)\n",
    "                        names.append(model_name)\n",
    "\n",
    "    if verbose:\n",
    "        for i, name in enumerate(names):\n",
    "            plt.plot(training_accuracies[i], label=name)\n",
    "\n",
    "        plt.legend(loc='upper center', bbox_to_anchor=(0.5, -0.05), fancybox=True, shadow=True, ncol=1)\n",
    "        plt.yticks(np.arange(0.4, 1.0, 0.05))\n",
    "        plt.axhline(y=baseline_accuracy, color='r', linestyle='--')\n",
    "        \n",
    "        plt.show()\n",
    "    \n",
    "    sorted_models = [key for key, value in sorted(filter(lambda item: item[1] > baseline_accuracy, result_map.items()), key=lambda item: item[1], reverse=True)]\n",
    "    \n",
    "    print('Models which passed the baseline:', sorted_models)\n",
    "\n",
    "    return result_map"
   ]
  },
  {
   "cell_type": "markdown",
   "metadata": {},
   "source": [
    "## Model Training and Tunning"
   ]
  },
  {
   "cell_type": "code",
   "execution_count": 19,
   "metadata": {},
   "outputs": [],
   "source": [
    "X_train, y_train, X_test, y_test = load_data(feature_size)"
   ]
  },
  {
   "cell_type": "code",
   "execution_count": 20,
   "metadata": {},
   "outputs": [],
   "source": [
    "train_dataset = convert_to_tensor_dataset(X_train, y_train)"
   ]
  },
  {
   "cell_type": "markdown",
   "metadata": {},
   "source": [
    "#### Hyperparameter Tunning"
   ]
  },
  {
   "cell_type": "code",
   "execution_count": 21,
   "metadata": {},
   "outputs": [
    {
     "name": "stdout",
     "output_type": "stream",
     "text": [
      "Starting k-fold cross validation\n",
      "---------------------------------------\n",
      "Training on fold: 1\n",
      "Epoch: 1 Loss: 0.7034880254003737 Accuracy: 0.49192708333333335\n",
      "Epoch: 11 Loss: 0.6886684894561768 Accuracy: 0.50625\n",
      "Epoch: 21 Loss: 0.6768067412906222 Accuracy: 0.5140625\n",
      "Epoch: 31 Loss: 0.6507621010144552 Accuracy: 0.5083333333333333\n",
      "Epoch: 41 Loss: 0.6294648183716668 Accuracy: 0.4947916666666667\n",
      "Training on fold: 2\n",
      "Epoch: 1 Loss: 0.7022117508782281 Accuracy: 0.49713541666666666\n",
      "Epoch: 11 Loss: 0.6886297067006429 Accuracy: 0.490625\n",
      "Epoch: 21 Loss: 0.6740228666199578 Accuracy: 0.50703125\n",
      "Epoch: 31 Loss: 0.6455806493759155 Accuracy: 0.49713541666666666\n",
      "Epoch: 41 Loss: 0.6146630114979215 Accuracy: 0.49505208333333334\n",
      "Training on fold: 3\n",
      "Epoch: 1 Loss: 0.6995901200506423 Accuracy: 0.5041666666666667\n",
      "Epoch: 11 Loss: 0.6829684972763062 Accuracy: 0.50859375\n",
      "Epoch: 21 Loss: 0.658970832824707 Accuracy: 0.49973958333333335\n",
      "Epoch: 31 Loss: 0.6257078912523057 Accuracy: 0.50625\n",
      "Epoch: 41 Loss: 0.5994446674982706 Accuracy: 0.5114583333333333\n",
      "Training on fold: 4\n",
      "Epoch: 1 Loss: 0.7006796134842767 Accuracy: 0.4903645833333333\n",
      "Epoch: 11 Loss: 0.6866143279605441 Accuracy: 0.4979166666666667\n",
      "Epoch: 21 Loss: 0.6670323345396254 Accuracy: 0.4830729166666667\n",
      "Epoch: 31 Loss: 0.6346234281857809 Accuracy: 0.5\n",
      "Epoch: 41 Loss: 0.6066926386621263 Accuracy: 0.49947916666666664\n",
      "Training on fold: 5\n",
      "Epoch: 1 Loss: 0.6975967155562507 Accuracy: 0.4822916666666667\n",
      "Epoch: 11 Loss: 0.6870679060618082 Accuracy: 0.51796875\n",
      "Epoch: 21 Loss: 0.6732648412386576 Accuracy: 0.49973958333333335\n",
      "Epoch: 31 Loss: 0.6449354953236051 Accuracy: 0.4875\n",
      "Epoch: 41 Loss: 0.6079875893063016 Accuracy: 0.5049479166666667\n",
      "Training on fold: 6\n",
      "Epoch: 1 Loss: 0.694448709487915 Accuracy: 0.49713541666666666\n",
      "Epoch: 11 Loss: 0.6759394804636637 Accuracy: 0.49453125\n",
      "Epoch: 21 Loss: 0.6345717443360223 Accuracy: 0.5002604166666667\n",
      "Epoch: 31 Loss: 0.5911081234614054 Accuracy: 0.5067708333333333\n",
      "Epoch: 41 Loss: 0.5671959188249376 Accuracy: 0.49635416666666665\n",
      "Training on fold: 7\n",
      "Epoch: 1 Loss: 0.7079370882776048 Accuracy: 0.5106770833333333\n",
      "Epoch: 11 Loss: 0.6865174505445693 Accuracy: 0.50234375\n",
      "Epoch: 21 Loss: 0.6705637375513712 Accuracy: 0.5044270833333333\n",
      "Epoch: 31 Loss: 0.6467648148536682 Accuracy: 0.49895833333333334\n",
      "Epoch: 41 Loss: 0.6215156979031033 Accuracy: 0.5122395833333333\n",
      "Training on fold: 8\n",
      "Epoch: 1 Loss: 0.7035721672905816 Accuracy: 0.49296875\n",
      "Epoch: 11 Loss: 0.6885936193996005 Accuracy: 0.5018229166666667\n",
      "Epoch: 21 Loss: 0.6773368252648247 Accuracy: 0.5013020833333334\n",
      "Epoch: 31 Loss: 0.6552197734514872 Accuracy: 0.5\n",
      "Epoch: 41 Loss: 0.6230500671598647 Accuracy: 0.5072916666666667\n",
      "Training on fold: 9\n",
      "Epoch: 1 Loss: 0.7036233014530606 Accuracy: 0.503125\n",
      "Epoch: 11 Loss: 0.6881613002883064 Accuracy: 0.4817708333333333\n",
      "Epoch: 21 Loss: 0.6730783846643236 Accuracy: 0.48828125\n",
      "Epoch: 31 Loss: 0.6483776966730753 Accuracy: 0.5\n",
      "Epoch: 41 Loss: 0.6235490706231859 Accuracy: 0.5080729166666667\n",
      "Training on fold: 10\n",
      "Epoch: 1 Loss: 0.6985354423522949 Accuracy: 0.4979166666666667\n",
      "Epoch: 11 Loss: 0.6831564373440213 Accuracy: 0.4859375\n",
      "Epoch: 21 Loss: 0.6600228018230863 Accuracy: 0.4986979166666667\n",
      "Epoch: 31 Loss: 0.6295786499977112 Accuracy: 0.48854166666666665\n",
      "Epoch: 41 Loss: 0.6023743549982706 Accuracy: 0.5072916666666667\n",
      "---------------FINISHED----------------\n",
      "Accuracies: [0.50026042 0.50286458 0.50729167 0.484375   0.5        0.50703125\n",
      " 0.54322917 0.50625    0.49713542 0.50598958]\n",
      "Average accuracy: 0.5054427083333333\n"
     ]
    },
    {
     "data": {
      "image/png": "[encoded data removed]",
      "text/plain": [
       "<Figure size 640x480 with 1 Axes>"
      ]
     },
     "metadata": {},
     "output_type": "display_data"
    },
    {
     "name": "stdout",
     "output_type": "stream",
     "text": [
      "Models which passed the baseline: []\n"
     ]
    }
   ],
   "source": [
    "results =  grid_search(train_dataset=train_dataset, num_folds=10, num_epochs=50, \n",
    "            lrs=                [0.01], \n",
    "            batch_sizes=        [4096], \n",
    "            regs=               [1e-4], \n",
    "            model_types=        ['sigmoid'],\n",
    "            layer_sizes=        [128],\n",
    "            verbose=True)"
   ]
  },
  {
   "cell_type": "code",
   "execution_count": null,
   "metadata": {},
   "outputs": [],
   "source": []
  }
 ],
 "metadata": {
  "kernelspec": {
   "display_name": "base",
   "language": "python",
   "name": "python3"
  },
  "language_info": {
   "codemirror_mode": {
    "name": "ipython",
    "version": 3
   },
   "file_extension": ".py",
   "mimetype": "text/x-python",
   "name": "python",
   "nbconvert_exporter": "python",
   "pygments_lexer": "ipython3",
   "version": "3.12.3"
  }
 },
 "nbformat": 4,
 "nbformat_minor": 2
}
