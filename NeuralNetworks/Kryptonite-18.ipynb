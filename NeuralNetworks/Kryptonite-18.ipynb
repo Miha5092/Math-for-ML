{
 "cells": [
  {
   "cell_type": "markdown",
   "metadata": {},
   "source": [
    "## Initial setup"
   ]
  },
  {
   "cell_type": "code",
   "execution_count": 11,
   "metadata": {},
   "outputs": [],
   "source": [
    "import numpy as np\n",
    "import pandas as pd\n",
    "import matplotlib.pyplot as plt\n",
    "import torch\n",
    "import random\n",
    "\n",
    "import matplotlib.pyplot as plt\n",
    "\n",
    "from torch import nn\n",
    "from torch.utils.data import DataLoader, ConcatDataset\n",
    "from torchvision.transforms import ToTensor\n",
    "from sklearn.model_selection import KFold\n",
    "from sklearn.model_selection import train_test_split\n",
    "from sklearn.preprocessing import StandardScaler\n"
   ]
  },
  {
   "cell_type": "code",
   "execution_count": 12,
   "metadata": {},
   "outputs": [
    {
     "name": "stdout",
     "output_type": "stream",
     "text": [
      "Using device: cuda\n"
     ]
    }
   ],
   "source": [
    "seed = 42\n",
    "feature_size = 18\n",
    "baseline_accuracy = 0.875\n",
    "\n",
    "device = torch.device('cuda' if torch.cuda.is_available() else 'cpu')\n",
    "print('Using device:', device)\n",
    "\n",
    "random.seed(seed)\n",
    "torch_seed = random.randint(0, 2 ** 32 - 1)\n",
    "numpy_seed = random.randint(0, 2 ** 32 - 1)\n",
    "torch.manual_seed(torch_seed)\n",
    "torch.cuda.manual_seed(torch_seed)\n",
    "np.random.seed(numpy_seed)"
   ]
  },
  {
   "cell_type": "markdown",
   "metadata": {},
   "source": [
    "## Model"
   ]
  },
  {
   "cell_type": "markdown",
   "metadata": {},
   "source": [
    "## Model"
   ]
  },
  {
   "cell_type": "code",
   "execution_count": 13,
   "metadata": {},
   "outputs": [],
   "source": [
    "class SoftMaxNeuralNetwork(nn.Module):\n",
    "    def __init__(self, input_size: int, layer_size: int = 64):\n",
    "        super().__init__()\n",
    "\n",
    "        self.layers = nn.Sequential(\n",
    "            nn.Linear(input_size, layer_size),\n",
    "            nn.ReLU(),\n",
    "            nn.Linear(layer_size, layer_size),\n",
    "            nn.ReLU(),\n",
    "            nn.Linear(layer_size, 2),\n",
    "            nn.Softmax(dim=1)\n",
    "        )\n",
    "\n",
    "    def forward(self, x):\n",
    "        return self.layers(x)\n",
    "    \n",
    "    def clasiffy(self, x):\n",
    "        return torch.argmax(self.forward(x), dim=1)\n",
    "    \n",
    "class SigmoidNeuralNetwork(nn.Module):\n",
    "    def __init__(self, input_size: int, layer_size: int = 64):\n",
    "        super().__init__()\n",
    "\n",
    "        self.layers = nn.Sequential(\n",
    "            nn.Linear(input_size, layer_size),\n",
    "            nn.ReLU(),\n",
    "            nn.Linear(layer_size, layer_size),\n",
    "            nn.ReLU(),\n",
    "            nn.Linear(layer_size, 1),\n",
    "        )\n",
    "\n",
    "    def forward(self, x):\n",
    "        return self.layers(x).view(-1)\n",
    "    \n",
    "    def clasiffy(self, x):\n",
    "        return torch.round(nn.Sigmoid()(self.forward(x))).view(-1)"
   ]
  },
  {
   "cell_type": "code",
   "execution_count": 14,
   "metadata": {},
   "outputs": [],
   "source": [
    "class SoftMaxNeuralNetwork(nn.Module):\n",
    "    def __init__(self, input_size: int, layer_size: int = 64):\n",
    "        super().__init__()\n",
    "\n",
    "        self.layers = nn.Sequential(\n",
    "            nn.Linear(input_size, layer_size),\n",
    "            nn.ReLU(),\n",
    "            nn.Linear(layer_size, layer_size),\n",
    "            nn.ReLU(),\n",
    "            nn.Linear(layer_size, 2),\n",
    "            nn.Softmax(dim=1)\n",
    "        )\n",
    "\n",
    "    def forward(self, x):\n",
    "        return self.layers(x)\n",
    "    \n",
    "    def clasiffy(self, x):\n",
    "        return torch.argmax(self.forward(x), dim=1)\n",
    "    \n",
    "class SigmoidNeuralNetwork(nn.Module):\n",
    "    def __init__(self, input_size: int, layer_size: int = 64):\n",
    "        super().__init__()\n",
    "\n",
    "        self.layers = nn.Sequential(\n",
    "            nn.Linear(input_size, layer_size),\n",
    "            nn.ReLU(),\n",
    "            nn.Linear(layer_size, layer_size),\n",
    "            nn.ReLU(),\n",
    "            nn.Linear(layer_size, 1),\n",
    "        )\n",
    "\n",
    "    def forward(self, x):\n",
    "        return self.layers(x).view(-1)\n",
    "    \n",
    "    def clasiffy(self, x):\n",
    "        return torch.round(nn.Sigmoid()(self.forward(x))).view(-1)"
   ]
  },
  {
   "cell_type": "markdown",
   "metadata": {},
   "source": [
    "## Helper Functions"
   ]
  },
  {
   "cell_type": "markdown",
   "metadata": {},
   "source": [
    "#### Data processing functions"
   ]
  },
  {
   "cell_type": "code",
   "execution_count": 15,
   "metadata": {},
   "outputs": [],
   "source": [
    "def load_data(feature_size: int):\n",
    "    X = np.load('../Datasets/kryptonite-%s-X.npy'%(feature_size))\n",
    "    y = np.load('../Datasets/kryptonite-%s-y.npy'%(feature_size))\n",
    "\n",
    "    X_train, X_test, y_train, y_test = train_test_split(X, y, test_size=0.2, random_state=seed)\n",
    "\n",
    "    scaler = StandardScaler().fit(X_train)\n",
    "\n",
    "    X_train = scaler.transform(X_train)\n",
    "    X_test = scaler.transform(X_test)\n",
    "\n",
    "    return X_train, y_train, X_test, y_test\n",
    "\n",
    "\n",
    "def convert_to_tensor_dataset(X, y):\n",
    "    return torch.utils.data.TensorDataset(torch.tensor(X, dtype=torch.float32).to(device), torch.tensor(y, dtype=torch.float32).to(device))"
   ]
  },
  {
   "cell_type": "markdown",
   "metadata": {},
   "source": [
    "#### Model optimization functions"
   ]
  },
  {
   "cell_type": "code",
   "execution_count": 16,
   "metadata": {},
   "outputs": [],
   "source": [
    "def k_fold(train_dataset, num_folds, num_epochs, learning_rate, batch_size, weight_decay, model_type, layer_size, verbose=False):\n",
    "    assert model_type == 'softmax' or model_type == 'sigmoid'\n",
    "\n",
    "    kfold = KFold(n_splits=num_folds, shuffle=True)\n",
    "\n",
    "    if verbose:\n",
    "        print('Starting k-fold cross validation')\n",
    "        print('---------------------------------------')\n",
    "\n",
    "    fold_no = 0\n",
    "    fold_losses = []\n",
    "    fold_accuracies = []\n",
    "\n",
    "    for train_index, validation_index in kfold.split(train_dataset):\n",
    "        \n",
    "        fold_no += 1\n",
    "\n",
    "        if verbose:\n",
    "            print('Training on fold:', fold_no)\n",
    "\n",
    "        if model_type == 'softmax':\n",
    "            net = SoftMaxNeuralNetwork(feature_size, layer_size).to(device)\n",
    "            loss_fn = nn.CrossEntropyLoss()\n",
    "        else:\n",
    "            net = SigmoidNeuralNetwork(feature_size, layer_size).to(device)\n",
    "            loss_fn = nn.BCEWithLogitsLoss()\n",
    "            \n",
    "        optimizer = torch.optim.Adam(net.parameters(), lr=learning_rate, weight_decay=weight_decay)\n",
    "\n",
    "        train_subsampler = torch.utils.data.SubsetRandomSampler(train_index)\n",
    "        validation_subsampler = torch.utils.data.SubsetRandomSampler(validation_index)\n",
    "\n",
    "        trainloader = torch.utils.data.DataLoader(train_dataset, batch_size=batch_size, sampler=train_subsampler)\n",
    "        validationloader = torch.utils.data.DataLoader(train_dataset,batch_size=batch_size, sampler=validation_subsampler)\n",
    "\n",
    "        epoch_losses = []\n",
    "        epoch_accuracies = []\n",
    "        for epoch in range(num_epochs):\n",
    "            batch_losses = []\n",
    "\n",
    "            for inputs, labels in trainloader:\n",
    "                net.zero_grad()\n",
    "                outputs = net(inputs)\n",
    "                if model_type == 'softmax':\n",
    "                    labels = labels.long()\n",
    "                loss = loss_fn(outputs, labels)\n",
    "\n",
    "                batch_losses.append(loss.item())\n",
    "\n",
    "                loss.backward()\n",
    "                optimizer.step()\n",
    "\n",
    "            epoch_loss = np.mean(batch_losses)\n",
    "            epoch_losses.append(epoch_loss)\n",
    "\n",
    "            with torch.no_grad():\n",
    "                batch_accuracies = []\n",
    "                for inputs, labels in validationloader:\n",
    "                    outputs = net.clasiffy(inputs)\n",
    "                    batch_accuracy = np.mean(outputs.cpu().numpy() == labels.cpu().numpy())\n",
    "                    batch_accuracies.append(batch_accuracy.item())\n",
    "\n",
    "            epoch_accuracy = np.mean(batch_accuracies)\n",
    "            epoch_accuracies.append(epoch_accuracy)\n",
    "\n",
    "            if epoch % 10 == 0 and verbose:\n",
    "                print('Epoch:', epoch + 1, 'Loss:', epoch_losses[-1], 'Accuracy:', epoch_accuracies[-1])\n",
    "\n",
    "        fold_losses.append(epoch_losses)\n",
    "        fold_accuracies.append(epoch_accuracies)\n",
    "\n",
    "    fold_accuracies = np.array(fold_accuracies)\n",
    "    fold_losses = np.array(fold_losses)\n",
    "\n",
    "    if verbose:\n",
    "        print('---------------FINISHED----------------')\n",
    "        print('Accuracies:', fold_accuracies[:, -1])\n",
    "        print('Average accuracy:', np.mean(fold_accuracies, axis=0)[-1])\n",
    "\n",
    "    return np.mean(fold_losses, axis=0), np.mean(fold_accuracies, axis=0)\n",
    "                "
   ]
  },
  {
   "cell_type": "code",
   "execution_count": 17,
   "metadata": {},
   "outputs": [],
   "source": [
    "def grid_search(train_dataset, num_folds, num_epochs, lrs: list, batch_sizes: list, regs: list, model_types: list, layer_sizes: list, verbose=False):\n",
    "    result_map = dict()\n",
    "    \n",
    "    training_accuracies = []\n",
    "    names = []\n",
    "\n",
    "    for lr in lrs:\n",
    "        for batch_size in batch_sizes:\n",
    "            for reg in regs:\n",
    "                for model_type in model_types:\n",
    "                    for layer_size in layer_sizes:\n",
    "                        train_losses, accuracies = k_fold(train_dataset, num_folds, num_epochs, lr, batch_size, reg, model_type, layer_size, verbose)\n",
    "                        model_name = f\"{model_type} model, {layer_size} neurons, Learning Rate {lr}, Batch Size {batch_size}, Regularization {reg}\"\n",
    "                        result_map[model_name] = accuracies[-1]\n",
    "\n",
    "                        training_accuracies.append(accuracies)\n",
    "                        names.append(model_name)\n",
    "\n",
    "    if verbose:\n",
    "        for i, name in enumerate(names):\n",
    "            plt.plot(training_accuracies[i], label=name)\n",
    "\n",
    "        plt.legend(loc='upper center', bbox_to_anchor=(0.5, -0.05), fancybox=True, shadow=True, ncol=1)\n",
    "        plt.yticks(np.arange(0.4, 1.0, 0.05))\n",
    "        plt.axhline(y=baseline_accuracy, color='r', linestyle='--')\n",
    "        \n",
    "        plt.show()\n",
    "    \n",
    "    sorted_models = [key for key, value in sorted(filter(lambda item: item[1] > baseline_accuracy, result_map.items()), key=lambda item: item[1], reverse=True)]\n",
    "    \n",
    "    print('Models which passed the baseline:', sorted_models)\n",
    "\n",
    "    return result_map"
   ]
  },
  {
   "cell_type": "markdown",
   "metadata": {},
   "source": [
    "## Model Training and Tunning"
   ]
  },
  {
   "cell_type": "code",
   "execution_count": 18,
   "metadata": {},
   "outputs": [],
   "source": [
    "X_train, y_train, X_test, y_test = load_data(feature_size)"
   ]
  },
  {
   "cell_type": "code",
   "execution_count": 19,
   "metadata": {},
   "outputs": [],
   "source": [
    "train_dataset = convert_to_tensor_dataset(X_train, y_train)"
   ]
  },
  {
   "cell_type": "markdown",
   "metadata": {},
   "source": [
    "#### Hyperparameter Tunning"
   ]
  },
  {
   "cell_type": "code",
   "execution_count": 21,
   "metadata": {},
   "outputs": [
    {
     "name": "stdout",
     "output_type": "stream",
     "text": [
      "Starting k-fold cross validation\n",
      "---------------------------------------\n",
      "Training on fold: 1\n",
      "Epoch: 1 Loss: 0.6983751425376306 Accuracy: 0.4947791466346154\n",
      "Epoch: 11 Loss: 0.58431843152413 Accuracy: 0.6844388521634616\n",
      "Epoch: 21 Loss: 0.30183542920992923 Accuracy: 0.8917142427884616\n",
      "Epoch: 31 Loss: 0.24900590341824752 Accuracy: 0.8868502103365384\n",
      "Epoch: 41 Loss: 0.21297777386812064 Accuracy: 0.8944936899038461\n",
      "Epoch: 51 Loss: 0.19886376422185165 Accuracy: 0.8900615985576923\n",
      "Epoch: 61 Loss: 0.19087300506921914 Accuracy: 0.8989070012019231\n",
      "Epoch: 71 Loss: 0.18194492619771224 Accuracy: 0.8852726862980769\n",
      "Training on fold: 2\n",
      "Epoch: 1 Loss: 0.6998648872742286 Accuracy: 0.5107797475961539\n",
      "Epoch: 11 Loss: 0.6852970123291016 Accuracy: 0.5139723557692308\n",
      "Epoch: 21 Loss: 0.6247244660670941 Accuracy: 0.5991774338942308\n",
      "Epoch: 31 Loss: 0.3526708804644071 Accuracy: 0.8286884014423077\n",
      "Epoch: 41 Loss: 0.2791615758950894 Accuracy: 0.8570650540865384\n",
      "Epoch: 51 Loss: 0.25729533915336317 Accuracy: 0.8631122295673077\n",
      "Epoch: 61 Loss: 0.2453009062088453 Accuracy: 0.8650653545673077\n",
      "Epoch: 71 Loss: 0.23318991982019865 Accuracy: 0.86962890625\n",
      "Training on fold: 3\n",
      "Epoch: 1 Loss: 0.698233636525961 Accuracy: 0.5040564903846154\n",
      "Epoch: 11 Loss: 0.6855785984259385 Accuracy: 0.5071739783653846\n",
      "Epoch: 21 Loss: 0.36914756894111633 Accuracy: 0.834228515625\n",
      "Epoch: 31 Loss: 0.28864131982509905 Accuracy: 0.8688777043269231\n",
      "Epoch: 41 Loss: 0.2636768829364043 Accuracy: 0.8759202223557692\n",
      "Epoch: 51 Loss: 0.24991576717450067 Accuracy: 0.8724834735576923\n",
      "Epoch: 61 Loss: 0.2355521539082894 Accuracy: 0.8774977463942308\n",
      "Epoch: 71 Loss: 0.2256164802954747 Accuracy: 0.8712439903846154\n",
      "Training on fold: 4\n",
      "Epoch: 1 Loss: 0.7007858065458444 Accuracy: 0.49654447115384615\n",
      "Epoch: 11 Loss: 0.6822680280758784 Accuracy: 0.5447340745192308\n",
      "Epoch: 21 Loss: 0.38145777124624985 Accuracy: 0.8065091646634616\n",
      "Epoch: 31 Loss: 0.30387024925305295 Accuracy: 0.8614783653846154\n",
      "Epoch: 41 Loss: 0.26361919710269344 Accuracy: 0.8928973858173077\n",
      "Epoch: 51 Loss: 0.24248808049238646 Accuracy: 0.8843524639423077\n",
      "Epoch: 61 Loss: 0.22578520155869997 Accuracy: 0.890869140625\n",
      "Epoch: 71 Loss: 0.21052984090951773 Accuracy: 0.8945500300480769\n",
      "Training on fold: 5\n",
      "Epoch: 1 Loss: 0.6991505668713496 Accuracy: 0.5001878004807692\n",
      "Epoch: 11 Loss: 0.6774975886711707 Accuracy: 0.5751201923076923\n",
      "Epoch: 21 Loss: 0.3985960873273703 Accuracy: 0.8142277644230769\n",
      "Epoch: 31 Loss: 0.28723366673176104 Accuracy: 0.8885591947115384\n",
      "Epoch: 41 Loss: 0.241537671822768 Accuracy: 0.8865309495192308\n",
      "Epoch: 51 Loss: 0.22135613858699799 Accuracy: 0.8956204927884616\n",
      "Epoch: 61 Loss: 0.20175911027651566 Accuracy: 0.9050668569711539\n",
      "Epoch: 71 Loss: 0.1903653901356917 Accuracy: 0.89892578125\n",
      "Training on fold: 6\n",
      "Epoch: 1 Loss: 0.6989544446651752 Accuracy: 0.5018028846153846\n",
      "Epoch: 11 Loss: 0.6547476328336276 Accuracy: 0.5975999098557692\n",
      "Epoch: 21 Loss: 0.35288608303436864 Accuracy: 0.8306415264423077\n",
      "Epoch: 31 Loss: 0.2569786161184311 Accuracy: 0.88671875\n",
      "Epoch: 41 Loss: 0.20947960362984583 Accuracy: 0.8894230769230769\n",
      "Epoch: 51 Loss: 0.18527712844885313 Accuracy: 0.894775390625\n",
      "Epoch: 61 Loss: 0.16721843641537887 Accuracy: 0.8980618990384616\n",
      "Epoch: 71 Loss: 0.15365899640780228 Accuracy: 0.8969350961538461\n",
      "Training on fold: 7\n",
      "Epoch: 1 Loss: 0.7042003594912015 Accuracy: 0.4850886418269231\n",
      "Epoch: 11 Loss: 0.6801451031978314 Accuracy: 0.5511756310096154\n",
      "Epoch: 21 Loss: 0.3519559158728673 Accuracy: 0.8451021634615384\n",
      "Epoch: 31 Loss: 0.24581478994626266 Accuracy: 0.8929161658653846\n",
      "Epoch: 41 Loss: 0.21180227398872375 Accuracy: 0.9020244891826923\n",
      "Epoch: 51 Loss: 0.1941653684927867 Accuracy: 0.9058743990384616\n",
      "Epoch: 61 Loss: 0.1865870998455928 Accuracy: 0.9044095552884616\n",
      "Epoch: 71 Loss: 0.16468256826584154 Accuracy: 0.9042593149038461\n",
      "Training on fold: 8\n",
      "Epoch: 1 Loss: 0.6968412903638986 Accuracy: 0.512939453125\n",
      "Epoch: 11 Loss: 0.6842201214570266 Accuracy: 0.49962439903846156\n",
      "Epoch: 21 Loss: 0.4292262953061324 Accuracy: 0.7813063401442308\n",
      "Epoch: 31 Loss: 0.25675068795681 Accuracy: 0.8806903545673077\n",
      "Epoch: 41 Loss: 0.21838640249692476 Accuracy: 0.8912447415865384\n",
      "Epoch: 51 Loss: 0.18640265671106485 Accuracy: 0.8973106971153846\n",
      "Epoch: 61 Loss: 0.16871605355005997 Accuracy: 0.8941744290865384\n",
      "Epoch: 71 Loss: 0.15525090465178856 Accuracy: 0.9015362079326923\n",
      "Training on fold: 9\n",
      "Epoch: 1 Loss: 0.7006452404535733 Accuracy: 0.49744591346153844\n",
      "Epoch: 11 Loss: 0.6693792755787189 Accuracy: 0.5890174278846154\n",
      "Epoch: 21 Loss: 0.32973782603557295 Accuracy: 0.8614971454326923\n",
      "Epoch: 31 Loss: 0.22912964683312637 Accuracy: 0.9068321814903846\n",
      "Epoch: 41 Loss: 0.1836955054448201 Accuracy: 0.9213679387019231\n",
      "Epoch: 51 Loss: 0.1664086878299713 Accuracy: 0.9137432391826923\n",
      "Epoch: 61 Loss: 0.15603140684274527 Accuracy: 0.9134990985576923\n",
      "Epoch: 71 Loss: 0.16041706731686226 Accuracy: 0.9108511117788461\n",
      "Training on fold: 10\n",
      "Epoch: 1 Loss: 0.7022480414463923 Accuracy: 0.49784029447115385\n",
      "Epoch: 11 Loss: 0.6771020935131953 Accuracy: 0.5390437199519231\n",
      "Epoch: 21 Loss: 0.3453296354183784 Accuracy: 0.8506986177884616\n",
      "Epoch: 31 Loss: 0.24967033587969267 Accuracy: 0.9057053786057692\n",
      "Epoch: 41 Loss: 0.1939957646223215 Accuracy: 0.9089543269230769\n",
      "Epoch: 51 Loss: 0.18679818854882166 Accuracy: 0.9292555588942308\n",
      "Epoch: 61 Loss: 0.1665975130521334 Accuracy: 0.9273399939903846\n",
      "Epoch: 71 Loss: 0.1570092382339331 Accuracy: 0.9211050180288461\n",
      "---------------FINISHED----------------\n",
      "Accuracies: [0.8988131  0.85845478 0.87456806 0.89682242 0.89723558 0.90132963\n",
      " 0.91299204 0.8968412  0.9140625  0.90741436]\n",
      "Average accuracy: 0.8958533653846154\n"
     ]
    },
    {
     "data": {
      "image/png": "[encoded data removed]",
      "text/plain": [
       "<Figure size 640x480 with 1 Axes>"
      ]
     },
     "metadata": {},
     "output_type": "display_data"
    },
    {
     "name": "stdout",
     "output_type": "stream",
     "text": [
      "Models which passed the baseline: ['sigmoid model, 128 neurons, Learning Rate 0.01, Batch Size 2048, Regularization 0.0001']\n"
     ]
    }
   ],
   "source": [
    "results =  grid_search(train_dataset=train_dataset, num_folds=10, num_epochs=80, \n",
    "            lrs=                [0.01], \n",
    "            batch_sizes=        [2048], \n",
    "            regs=               [1e-4], \n",
    "            model_types=        ['sigmoid'],\n",
    "            layer_sizes=        [128],\n",
    "            verbose=True)"
   ]
  },
  {
   "cell_type": "code",
   "execution_count": null,
   "metadata": {},
   "outputs": [],
   "source": []
  }
 ],
 "metadata": {
  "kernelspec": {
   "display_name": "base",
   "language": "python",
   "name": "python3"
  },
  "language_info": {
   "codemirror_mode": {
    "name": "ipython",
    "version": 3
   },
   "file_extension": ".py",
   "mimetype": "text/x-python",
   "name": "python",
   "nbconvert_exporter": "python",
   "pygments_lexer": "ipython3",
   "version": "3.12.3"
  }
 },
 "nbformat": 4,
 "nbformat_minor": 2
}
