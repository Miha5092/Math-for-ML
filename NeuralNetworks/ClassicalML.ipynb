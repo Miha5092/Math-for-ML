{
 "cells": [
  {
   "cell_type": "markdown",
   "metadata": {},
   "source": [
    "### Inspiration:\n",
    "\n",
    "https://scikit-learn.org/1.5/auto_examples/classification/plot_classifier_comparison.html#sphx-glr-auto-examples-classification-plot-classifier-comparison-py"
   ]
  },
  {
   "cell_type": "code",
   "execution_count": 12,
   "metadata": {
    "ExecuteTime": {
     "end_time": "2024-11-13T16:46:15.105027Z",
     "start_time": "2024-11-13T16:46:14.647073Z"
    }
   },
   "outputs": [],
   "source": [
    "import numpy as np\n",
    "import pandas as pd\n",
    "import matplotlib.pyplot as plt\n",
    "import random\n",
    "\n",
    "import matplotlib.pyplot as plt\n",
    "\n",
    "from sklearn.model_selection import KFold\n",
    "from sklearn.model_selection import train_test_split\n",
    "from sklearn.preprocessing import StandardScaler\n",
    "from sklearn.ensemble import RandomForestClassifier\n",
    "from sklearn.gaussian_process import GaussianProcessClassifier\n",
    "from sklearn.gaussian_process.kernels import RBF\n",
    "from sklearn.neighbors import KNeighborsClassifier\n",
    "from sklearn.svm import SVC\n",
    "from sklearn.model_selection import GridSearchCV\n",
    "from sklearn.preprocessing import PolynomialFeatures"
   ]
  },
  {
   "cell_type": "code",
   "execution_count": 13,
   "metadata": {
    "ExecuteTime": {
     "end_time": "2024-11-13T16:46:15.124598Z",
     "start_time": "2024-11-13T16:46:15.117244Z"
    }
   },
   "outputs": [],
   "source": [
    "def load_data(feature_size: int):\n",
    "    X = np.load('../Datasets/kryptonite-%s-X.npy'%(feature_size))\n",
    "    y = np.load('../Datasets/kryptonite-%s-y.npy'%(feature_size))\n",
    "\n",
    "    X_train, X_test, y_train, y_test = train_test_split(X, y, test_size=0.2)\n",
    "\n",
    "    scaler = StandardScaler().fit(X_train)\n",
    "\n",
    "    X_train = scaler.transform(X_train)\n",
    "    X_test = scaler.transform(X_test)\n",
    "\n",
    "    X_train = np.where(X_train >= 0, np.float32(1.0), np.float32(-1.0))\n",
    "    X_test = np.where(X_test >= 0, np.float32(1.0), np.float32(-1.0))\n",
    "\n",
    "    X_train = PolynomialFeatures(degree=6).fit_transform(X_train)\n",
    "    X_test = PolynomialFeatures(degree=6).fit_transform(X_test)\n",
    "\n",
    "    return X_train, [int(y) for y in y_train], X_test, [int(y) for y in y_test], X_test.shape[1]"
   ]
  },
  {
   "cell_type": "markdown",
   "metadata": {},
   "source": [
    "### Kryptonite-9"
   ]
  },
  {
   "cell_type": "code",
   "execution_count": 14,
   "metadata": {
    "ExecuteTime": {
     "end_time": "2024-11-13T16:46:15.220426Z",
     "start_time": "2024-11-13T16:46:15.212237Z"
    }
   },
   "outputs": [],
   "source": [
    "feature_size = 9\n",
    "baseline_accuracy = 0.95"
   ]
  },
  {
   "cell_type": "code",
   "execution_count": 15,
   "metadata": {
    "ExecuteTime": {
     "end_time": "2024-11-13T16:46:15.279479Z",
     "start_time": "2024-11-13T16:46:15.236563Z"
    }
   },
   "outputs": [],
   "source": [
    "X_train, y_train, X_test, y_test, feature_size = load_data(feature_size)"
   ]
  },
  {
   "cell_type": "code",
   "execution_count": 16,
   "metadata": {
    "ExecuteTime": {
     "end_time": "2024-11-13T16:46:22.802772Z",
     "start_time": "2024-11-13T16:46:15.292736Z"
    }
   },
   "outputs": [],
   "source": [
    "clf = RandomForestClassifier(min_samples_leaf=10).fit(X_train, y_train)"
   ]
  },
  {
   "cell_type": "code",
   "execution_count": 17,
   "metadata": {
    "ExecuteTime": {
     "end_time": "2024-11-13T16:46:22.923354Z",
     "start_time": "2024-11-13T16:46:22.887343Z"
    }
   },
   "outputs": [],
   "source": [
    "neigh = KNeighborsClassifier(n_neighbors=7).fit(X_train, y_train)"
   ]
  },
  {
   "cell_type": "code",
   "execution_count": 18,
   "metadata": {
    "ExecuteTime": {
     "end_time": "2024-11-13T16:46:30.554699Z",
     "start_time": "2024-11-13T16:46:22.936578Z"
    }
   },
   "outputs": [],
   "source": [
    "svm = SVC(gamma=2).fit(X_train, y_train)"
   ]
  },
  {
   "cell_type": "code",
   "execution_count": 19,
   "metadata": {
    "ExecuteTime": {
     "end_time": "2024-11-13T16:46:32.324946Z",
     "start_time": "2024-11-13T16:46:30.571007Z"
    }
   },
   "outputs": [
    {
     "name": "stdout",
     "output_type": "stream",
     "text": [
      "Random Forest:  0.9547222222222222\n",
      "KNN:  0.9547222222222222\n",
      "SVM:  0.9547222222222222\n"
     ]
    }
   ],
   "source": [
    "print(\"Random Forest: \", clf.score(X_test, y_test))\n",
    "print(\"KNN: \", neigh.score(X_test, y_test))\n",
    "print(\"SVM: \", svm.score(X_test, y_test))"
   ]
  },
  {
   "cell_type": "markdown",
   "metadata": {},
   "source": [
    "### Kryptonite-12"
   ]
  },
  {
   "cell_type": "code",
   "execution_count": 20,
   "metadata": {
    "ExecuteTime": {
     "end_time": "2024-11-13T16:46:32.345383Z",
     "start_time": "2024-11-13T16:46:32.338234Z"
    }
   },
   "outputs": [],
   "source": [
    "feature_size = 12\n",
    "baseline_accuracy = 0.925"
   ]
  },
  {
   "cell_type": "code",
   "execution_count": 21,
   "metadata": {
    "ExecuteTime": {
     "end_time": "2024-11-13T16:46:32.451629Z",
     "start_time": "2024-11-13T16:46:32.362403Z"
    }
   },
   "outputs": [],
   "source": [
    "X_train, y_train, X_test, y_test, feature_size = load_data(feature_size)"
   ]
  },
  {
   "cell_type": "code",
   "execution_count": 22,
   "metadata": {
    "ExecuteTime": {
     "end_time": "2024-11-13T16:46:41.921437Z",
     "start_time": "2024-11-13T16:46:32.475177Z"
    }
   },
   "outputs": [],
   "source": [
    "clf = RandomForestClassifier(min_samples_leaf=10).fit(X_train, y_train)"
   ]
  },
  {
   "cell_type": "code",
   "execution_count": 23,
   "metadata": {
    "ExecuteTime": {
     "end_time": "2024-11-13T16:46:42.045135Z",
     "start_time": "2024-11-13T16:46:41.935243Z"
    }
   },
   "outputs": [],
   "source": [
    "neigh = KNeighborsClassifier(n_neighbors=3, p=7, weights=\"distance\").fit(X_train, y_train)"
   ]
  },
  {
   "cell_type": "code",
   "execution_count": null,
   "metadata": {
    "ExecuteTime": {
     "end_time": "2024-11-13T16:47:24.954948Z",
     "start_time": "2024-11-13T16:46:42.055246Z"
    }
   },
   "outputs": [],
   "source": [
    "svm = SVC(gamma=2).fit(X_train, y_train)"
   ]
  },
  {
   "cell_type": "code",
   "execution_count": null,
   "metadata": {
    "ExecuteTime": {
     "end_time": "2024-11-13T16:47:31.892551Z",
     "start_time": "2024-11-13T16:47:24.970399Z"
    }
   },
   "outputs": [
    {
     "name": "stdout",
     "output_type": "stream",
     "text": [
      "Random Forest:  0.9627083333333334\n",
      "KNN:  0.95\n",
      "SVM:  0.9516666666666667\n"
     ]
    }
   ],
   "source": [
    "print(\"Random Forest: \", clf.score(X_test, y_test))\n",
    "print(\"KNN: \", neigh.score(X_test, y_test))\n",
    "print(\"SVM: \", svm.score(X_test, y_test))"
   ]
  },
  {
   "cell_type": "markdown",
   "metadata": {},
   "source": [
    "### Kryptonite-15"
   ]
  },
  {
   "cell_type": "code",
   "execution_count": null,
   "metadata": {
    "ExecuteTime": {
     "end_time": "2024-11-13T16:47:32.028256Z",
     "start_time": "2024-11-13T16:47:31.980856Z"
    }
   },
   "outputs": [],
   "source": [
    "feature_size = 15\n",
    "baseline_accuracy = 0.9\n",
    "X_train, y_train, X_test, y_test, feature_size = load_data(feature_size)"
   ]
  },
  {
   "cell_type": "code",
   "execution_count": null,
   "metadata": {
    "ExecuteTime": {
     "end_time": "2024-11-13T16:47:46.586572Z",
     "start_time": "2024-11-13T16:47:32.040798Z"
    }
   },
   "outputs": [],
   "source": [
    "clf = RandomForestClassifier(min_samples_leaf=10).fit(X_train, y_train)"
   ]
  },
  {
   "cell_type": "code",
   "execution_count": null,
   "metadata": {},
   "outputs": [
    {
     "name": "stdout",
     "output_type": "stream",
     "text": [
      "Random Forest:  0.9685\n"
     ]
    }
   ],
   "source": [
    "print(\"Random Forest: \", clf.score(X_test, y_test))"
   ]
  },
  {
   "cell_type": "markdown",
   "metadata": {},
   "source": [
    "### Kryptonite-18"
   ]
  },
  {
   "cell_type": "code",
   "execution_count": null,
   "metadata": {},
   "outputs": [],
   "source": [
    "feature_size = 18\n",
    "baseline_accuracy = 0.875"
   ]
  },
  {
   "cell_type": "code",
   "execution_count": null,
   "metadata": {},
   "outputs": [],
   "source": [
    "X_train, y_train, X_test, y_test, feature_size = load_data(feature_size)"
   ]
  },
  {
   "cell_type": "code",
   "execution_count": null,
   "metadata": {},
   "outputs": [],
   "source": [
    "clf = RandomForestClassifier(min_samples_leaf=10).fit(X_train, y_train)"
   ]
  },
  {
   "cell_type": "code",
   "execution_count": null,
   "metadata": {},
   "outputs": [
    {
     "name": "stdout",
     "output_type": "stream",
     "text": [
      "Random Forest:  0.9702777777777778\n"
     ]
    }
   ],
   "source": [
    "print(\"Random Forest: \", clf.score(X_test, y_test))"
   ]
  },
  {
   "cell_type": "code",
   "execution_count": null,
   "metadata": {},
   "outputs": [],
   "source": []
  }
 ],
 "metadata": {
  "kernelspec": {
   "display_name": "base",
   "language": "python",
   "name": "python3"
  },
  "language_info": {
   "codemirror_mode": {
    "name": "ipython",
    "version": 3
   },
   "file_extension": ".py",
   "mimetype": "text/x-python",
   "name": "python",
   "nbconvert_exporter": "python",
   "pygments_lexer": "ipython3",
   "version": "3.12.3"
  }
 },
 "nbformat": 4,
 "nbformat_minor": 2
}
