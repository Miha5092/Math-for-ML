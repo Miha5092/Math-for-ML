{
 "cells": [
  {
   "cell_type": "code",
   "execution_count": 1,
   "metadata": {},
   "outputs": [],
   "source": [
    "%load_ext autoreload\n",
    "\n",
    "%autoreload 2\n",
    "\n",
    "import numpy as np\n",
    "import pandas as pd\n",
    "import matplotlib.pyplot as plt\n",
    "import seaborn as sns\n",
    "import sys\n",
    "import os\n",
    "import torch\n",
    "\n",
    "sys.path.append('..')\n",
    "\n",
    "from torch import nn\n",
    "from Utils.NeuralNetworks import SigmoidNeuralNetwork\n",
    "from Utils.utils import load_data, run_multiple_nn, run_multiple_forest, run_multiple_logistics\n",
    "from skorch import NeuralNetClassifier\n",
    "from sklearn.model_selection import GridSearchCV\n",
    "from sklearn.linear_model import LogisticRegression\n",
    "from sklearn.linear_model import SGDClassifier"
   ]
  },
  {
   "cell_type": "markdown",
   "metadata": {},
   "source": [
    "# Define Paramaters"
   ]
  },
  {
   "cell_type": "code",
   "execution_count": 2,
   "metadata": {},
   "outputs": [
    {
     "name": "stdout",
     "output_type": "stream",
     "text": [
      "Using device: cuda\n"
     ]
    }
   ],
   "source": [
    "base_seed = 42\n",
    "base_feature_size = 15\n",
    "baseline_accuracy = 0.9\n",
    "\n",
    "device = torch.device('cuda' if torch.cuda.is_available() else 'cpu')\n",
    "print('Using device:', device)"
   ]
  },
  {
   "cell_type": "markdown",
   "metadata": {},
   "source": [
    "# Neural Network"
   ]
  },
  {
   "cell_type": "code",
   "execution_count": 3,
   "metadata": {},
   "outputs": [],
   "source": [
    "X_train, y_train, _, _, feature_size  = load_data(base_seed, base_feature_size, discreteize=True, expand=False)"
   ]
  },
  {
   "cell_type": "markdown",
   "metadata": {},
   "source": [
    "### Performing grid search"
   ]
  },
  {
   "cell_type": "code",
   "execution_count": 4,
   "metadata": {},
   "outputs": [
    {
     "name": "stdout",
     "output_type": "stream",
     "text": [
      "Fitting 10 folds for each of 12 candidates, totalling 120 fits\n"
     ]
    },
    {
     "name": "stderr",
     "output_type": "stream",
     "text": [
      "c:\\Users\\Mihai\\miniconda3\\Lib\\site-packages\\sklearn\\model_selection\\_validation.py:540: FitFailedWarning: \n",
      "1 fits failed out of a total of 120.\n",
      "The score on these train-test partitions for these parameters will be set to nan.\n",
      "If these failures are not expected, you can try to debug them by setting error_score='raise'.\n",
      "\n",
      "Below are more details about the failures:\n",
      "--------------------------------------------------------------------------------\n",
      "1 fits failed with the following error:\n",
      "Traceback (most recent call last):\n",
      "  File \"c:\\Users\\Mihai\\miniconda3\\Lib\\site-packages\\sklearn\\model_selection\\_validation.py\", line 888, in _fit_and_score\n",
      "    estimator.fit(X_train, y_train, **fit_params)\n",
      "  File \"c:\\Users\\Mihai\\miniconda3\\Lib\\site-packages\\skorch\\classifier.py\", line 165, in fit\n",
      "    return super(NeuralNetClassifier, self).fit(X, y, **fit_params)\n",
      "           ^^^^^^^^^^^^^^^^^^^^^^^^^^^^^^^^^^^^^^^^^^^^^^^^^^^^^^^^\n",
      "  File \"c:\\Users\\Mihai\\miniconda3\\Lib\\site-packages\\skorch\\net.py\", line 1317, in fit\n",
      "    self.initialize()\n",
      "  File \"c:\\Users\\Mihai\\miniconda3\\Lib\\site-packages\\skorch\\net.py\", line 903, in initialize\n",
      "    self._initialize_module()\n",
      "  File \"c:\\Users\\Mihai\\miniconda3\\Lib\\site-packages\\skorch\\net.py\", line 753, in _initialize_module\n",
      "    module = to_device(module, self.device)\n",
      "             ^^^^^^^^^^^^^^^^^^^^^^^^^^^^^^\n",
      "  File \"c:\\Users\\Mihai\\miniconda3\\Lib\\site-packages\\skorch\\utils.py\", line 202, in to_device\n",
      "    return X.to(device)\n",
      "           ^^^^^^^^^^^^\n",
      "  File \"c:\\Users\\Mihai\\miniconda3\\Lib\\site-packages\\torch\\nn\\modules\\module.py\", line 1340, in to\n",
      "    return self._apply(convert)\n",
      "           ^^^^^^^^^^^^^^^^^^^^\n",
      "  File \"c:\\Users\\Mihai\\miniconda3\\Lib\\site-packages\\torch\\nn\\modules\\module.py\", line 900, in _apply\n",
      "    module._apply(fn)\n",
      "  File \"c:\\Users\\Mihai\\miniconda3\\Lib\\site-packages\\torch\\nn\\modules\\module.py\", line 900, in _apply\n",
      "    module._apply(fn)\n",
      "  File \"c:\\Users\\Mihai\\miniconda3\\Lib\\site-packages\\torch\\nn\\modules\\module.py\", line 927, in _apply\n",
      "    param_applied = fn(param)\n",
      "                    ^^^^^^^^^\n",
      "  File \"c:\\Users\\Mihai\\miniconda3\\Lib\\site-packages\\torch\\nn\\modules\\module.py\", line 1326, in convert\n",
      "    return t.to(\n",
      "           ^^^^^\n",
      "RuntimeError: CUDA error: CUDA-capable device(s) is/are busy or unavailable\n",
      "CUDA kernel errors might be asynchronously reported at some other API call, so the stacktrace below might be incorrect.\n",
      "For debugging consider passing CUDA_LAUNCH_BLOCKING=1\n",
      "Compile with `TORCH_USE_CUDA_DSA` to enable device-side assertions.\n",
      "\n",
      "\n",
      "  warnings.warn(some_fits_failed_message, FitFailedWarning)\n",
      "c:\\Users\\Mihai\\miniconda3\\Lib\\site-packages\\sklearn\\model_selection\\_search.py:1103: UserWarning: One or more of the test scores are non-finite: [       nan 0.58725    0.95408333 0.95833333 0.90845833 0.90254167\n",
      " 0.54495833 0.84820833 0.96008333 0.96116667 0.94625    0.94658333]\n",
      "  warnings.warn(\n"
     ]
    }
   ],
   "source": [
    "net = NeuralNetClassifier(\n",
    "    module=SigmoidNeuralNetwork,\n",
    "    max_epochs=50,\n",
    "    criterion=nn.BCEWithLogitsLoss,\n",
    "    optimizer=torch.optim.Adam,\n",
    "    optimizer__lr=0.01,\n",
    "    batch_size=2048,\n",
    "    module__input_size=feature_size,\n",
    "    device=device,\n",
    "    train_split=None\n",
    ")\n",
    "\n",
    "params = {\n",
    "    'optimizer__lr': [0.1, 0.01, 0.001],\n",
    "    'max_epochs': [50],\n",
    "    'batch_size': [1024],\n",
    "    'module__layer_size': [32, 64],\n",
    "    'module__layer_no': [1],\n",
    "    'optimizer__weight_decay': [1e-3, 1e-4],\n",
    "}\n",
    "\n",
    "gs = GridSearchCV(net, params, refit=False, cv=10, scoring='accuracy', n_jobs=-1, verbose=1)\n",
    "clf = gs.fit(X_train, y_train.astype(float))"
   ]
  },
  {
   "cell_type": "code",
   "execution_count": 5,
   "metadata": {},
   "outputs": [
    {
     "name": "stdout",
     "output_type": "stream",
     "text": [
      "Best parameters found:  {'batch_size': 1024, 'max_epochs': 50, 'module__layer_no': 1, 'module__layer_size': 64, 'optimizer__lr': 0.01, 'optimizer__weight_decay': 0.0001}\n",
      "Best accuracy found:  0.9611666666666668\n"
     ]
    }
   ],
   "source": [
    "print(\"Best parameters found: \", gs.best_params_)\n",
    "print(\"Best accuracy found: \", gs.best_score_)"
   ]
  },
  {
   "cell_type": "markdown",
   "metadata": {},
   "source": [
    "### Assesing performance"
   ]
  },
  {
   "cell_type": "code",
   "execution_count": 6,
   "metadata": {},
   "outputs": [
    {
     "name": "stdout",
     "output_type": "stream",
     "text": [
      "Run 1 / 10 started\n",
      "Run finished with test accuracy: 0.9618333333333333\n",
      "Run 2 / 10 started\n",
      "Run finished with test accuracy: 0.9658333333333333\n",
      "Run 3 / 10 started\n",
      "Run finished with test accuracy: 0.9526666666666667\n",
      "Run 4 / 10 started\n",
      "Run finished with test accuracy: 0.96\n",
      "Run 5 / 10 started\n",
      "Run finished with test accuracy: 0.9568333333333333\n",
      "Run 6 / 10 started\n",
      "Run finished with test accuracy: 0.958\n",
      "Run 7 / 10 started\n",
      "Run finished with test accuracy: 0.9635\n",
      "Run 8 / 10 started\n",
      "Run finished with test accuracy: 0.9608333333333333\n",
      "Run 9 / 10 started\n",
      "Run finished with test accuracy: 0.9595\n",
      "Run 10 / 10 started\n",
      "Run finished with test accuracy: 0.9576666666666667\n"
     ]
    }
   ],
   "source": [
    "nn_results, unscaled_guarantee = run_multiple_nn(gs, base_feature_size=base_feature_size, device=device, no_runs=10)"
   ]
  },
  {
   "cell_type": "code",
   "execution_count": 7,
   "metadata": {},
   "outputs": [
    {
     "name": "stdout",
     "output_type": "stream",
     "text": [
      "   Seed  epoch  train_loss  train_accuracy  test_accuracy\n",
      "0     0      0    0.693667        0.505417       0.961833\n",
      "1     0      1    0.689576        0.541500       0.961833\n",
      "2     0      2    0.656451        0.614042       0.961833\n",
      "3     0      3    0.503338        0.737542       0.961833\n",
      "4     0      4    0.333536        0.863875       0.961833\n"
     ]
    }
   ],
   "source": [
    "print(nn_results.head())\n",
    "\n",
    "os.makedirs('results', exist_ok=True)\n",
    "nn_results.to_csv(f'results/nn_results_{base_feature_size}.csv')"
   ]
  },
  {
   "cell_type": "code",
   "execution_count": 8,
   "metadata": {},
   "outputs": [
    {
     "data": {
      "image/png": "[encoded data removed]",
      "text/plain": [
       "<Figure size 640x480 with 1 Axes>"
      ]
     },
     "metadata": {},
     "output_type": "display_data"
    }
   ],
   "source": [
    "sns.set_style(\"whitegrid\")\n",
    "ax = sns.lineplot(data=nn_results, x='epoch', y='train_accuracy', errorbar='sd')\n",
    "ax.set(xlabel='Training Epoch', ylabel='Training Accuracy', ylim=(0.5, 1.0), title='Training Accuracy over Epochs')\n",
    "plt.axhline(y=baseline_accuracy, color='r', linestyle='--')\n",
    "plt.show()"
   ]
  },
  {
   "cell_type": "code",
   "execution_count": 9,
   "metadata": {},
   "outputs": [
    {
     "name": "stdout",
     "output_type": "stream",
     "text": [
      "P(|E[r] - r_hat| > 0.05966666666666676) <= 0.01\n"
     ]
    }
   ],
   "source": [
    "risk_tolerance = nn_results['test_accuracy'].mean() - baseline_accuracy\n",
    "print(f'P(|E[r] - r_hat| > {risk_tolerance}) <= {unscaled_guarantee / risk_tolerance:.2f}')  "
   ]
  },
  {
   "cell_type": "markdown",
   "metadata": {},
   "source": [
    "# Random Forrests"
   ]
  },
  {
   "cell_type": "code",
   "execution_count": 10,
   "metadata": {},
   "outputs": [],
   "source": [
    "X_train, y_train, _, _, feature_size  = load_data(base_seed, base_feature_size, discreteize=True, expand=True)"
   ]
  },
  {
   "cell_type": "markdown",
   "metadata": {},
   "source": [
    "### Assessing Performance"
   ]
  },
  {
   "cell_type": "code",
   "execution_count": 11,
   "metadata": {},
   "outputs": [
    {
     "name": "stdout",
     "output_type": "stream",
     "text": [
      "Run 1 / 10 started\n",
      "Run finished with test accuracy: 0.965\n",
      "Run 2 / 10 started\n",
      "Run finished with test accuracy: 0.9696666666666667\n",
      "Run 3 / 10 started\n",
      "Run finished with test accuracy: 0.967\n",
      "Run 4 / 10 started\n",
      "Run finished with test accuracy: 0.9676666666666667\n",
      "Run 5 / 10 started\n",
      "Run finished with test accuracy: 0.962\n",
      "Run 6 / 10 started\n",
      "Run finished with test accuracy: 0.9658333333333333\n",
      "Run 7 / 10 started\n",
      "Run finished with test accuracy: 0.9666666666666667\n",
      "Run 8 / 10 started\n",
      "Run finished with test accuracy: 0.9666666666666667\n",
      "Run 9 / 10 started\n",
      "Run finished with test accuracy: 0.9658333333333333\n",
      "Run 10 / 10 started\n",
      "Run finished with test accuracy: 0.9683333333333334\n"
     ]
    }
   ],
   "source": [
    "forrest_results, unscaled_guarantee = run_multiple_forest(base_feature_size, no_runs=10)"
   ]
  },
  {
   "cell_type": "code",
   "execution_count": 12,
   "metadata": {},
   "outputs": [
    {
     "name": "stdout",
     "output_type": "stream",
     "text": [
      "   run  test_accuracy\n",
      "0    0       0.965000\n",
      "1    1       0.969667\n",
      "2    2       0.967000\n",
      "3    3       0.967667\n",
      "4    4       0.962000\n",
      "5    5       0.965833\n",
      "6    6       0.966667\n",
      "7    7       0.966667\n",
      "8    8       0.965833\n",
      "9    9       0.968333\n"
     ]
    }
   ],
   "source": [
    "print(forrest_results)\n",
    "\n",
    "os.makedirs('results', exist_ok=True)\n",
    "forrest_results.to_csv(f'results/rf_results_{base_feature_size}.csv')"
   ]
  },
  {
   "cell_type": "code",
   "execution_count": 13,
   "metadata": {},
   "outputs": [
    {
     "name": "stdout",
     "output_type": "stream",
     "text": [
      "Random Forest Accuracy: 0.9664666666666667\n",
      "Baseline to beat 0.9\n"
     ]
    }
   ],
   "source": [
    "print(\"Random Forest Accuracy:\", forrest_results['test_accuracy'].mean())\n",
    "print(\"Baseline to beat\", baseline_accuracy)"
   ]
  },
  {
   "cell_type": "code",
   "execution_count": 14,
   "metadata": {},
   "outputs": [
    {
     "name": "stdout",
     "output_type": "stream",
     "text": [
      "P(|E[r] - r_hat| > 0.06646666666666667) <= 0.00\n"
     ]
    }
   ],
   "source": [
    "risk_tolerance = forrest_results['test_accuracy'].mean() - baseline_accuracy\n",
    "print(f'P(|E[r] - r_hat| > {risk_tolerance}) <= {unscaled_guarantee / risk_tolerance:.2f}')  "
   ]
  },
  {
   "cell_type": "markdown",
   "metadata": {},
   "source": [
    "# Logistic Regression"
   ]
  },
  {
   "cell_type": "code",
   "execution_count": 13,
   "metadata": {},
   "outputs": [],
   "source": [
    "X_train, y_train, _, _, feature_size  = load_data(base_seed, base_feature_size, discreteize=True, expand=True)"
   ]
  },
  {
   "cell_type": "markdown",
   "metadata": {},
   "source": [
    "### Performing Grid Search"
   ]
  },
  {
   "cell_type": "code",
   "execution_count": 14,
   "metadata": {},
   "outputs": [
    {
     "name": "stdout",
     "output_type": "stream",
     "text": [
      "Fitting 10 folds for each of 12 candidates, totalling 120 fits\n"
     ]
    }
   ],
   "source": [
    "params = {\n",
    "    'alpha': [0.1, 0.15, 0.2],\n",
    "    'max_iter': [1500],\n",
    "    'tol': [1e-3],\n",
    "    'learning_rate': ['optimal', 'constant'],\n",
    "    'eta0': [0.01, 0.001],\n",
    "}\n",
    "\n",
    "logreg = SGDClassifier(loss='log_loss', n_jobs=-1)\n",
    "\n",
    "gs = GridSearchCV(logreg, params, refit=False, cv=10, scoring='accuracy', n_jobs=2, verbose=1)\n",
    "clf = gs.fit(X_train, y_train)"
   ]
  },
  {
   "cell_type": "code",
   "execution_count": 15,
   "metadata": {},
   "outputs": [
    {
     "name": "stdout",
     "output_type": "stream",
     "text": [
      "Best parameters found:  {'alpha': 0.1, 'eta0': 0.001, 'learning_rate': 'optimal', 'max_iter': 1500, 'tol': 0.001}\n",
      "Best accuracy found:  0.5370833333333334\n"
     ]
    }
   ],
   "source": [
    "print(\"Best parameters found: \", gs.best_params_)\n",
    "print(\"Best accuracy found: \", gs.best_score_)"
   ]
  },
  {
   "cell_type": "markdown",
   "metadata": {},
   "source": [
    "### Assessing Performance"
   ]
  },
  {
   "cell_type": "code",
   "execution_count": 16,
   "metadata": {},
   "outputs": [
    {
     "name": "stdout",
     "output_type": "stream",
     "text": [
      "Run 1 / 10 started\n",
      "Run finished with test accuracy: 0.5261666666666667\n",
      "Run 2 / 10 started\n",
      "Run finished with test accuracy: 0.5451666666666667\n",
      "Run 3 / 10 started\n",
      "Run finished with test accuracy: 0.5328333333333334\n",
      "Run 4 / 10 started\n",
      "Run finished with test accuracy: 0.5341666666666667\n",
      "Run 5 / 10 started\n",
      "Run finished with test accuracy: 0.5423333333333333\n",
      "Run 6 / 10 started\n",
      "Run finished with test accuracy: 0.5396666666666666\n",
      "Run 7 / 10 started\n",
      "Run finished with test accuracy: 0.5375\n",
      "Run 8 / 10 started\n",
      "Run finished with test accuracy: 0.5316666666666666\n",
      "Run 9 / 10 started\n",
      "Run finished with test accuracy: 0.532\n",
      "Run 10 / 10 started\n",
      "Run finished with test accuracy: 0.5478333333333333\n"
     ]
    }
   ],
   "source": [
    "logreg_results = run_multiple_logistics(gs, base_feature_size, no_runs=10)"
   ]
  },
  {
   "cell_type": "code",
   "execution_count": 17,
   "metadata": {},
   "outputs": [
    {
     "name": "stdout",
     "output_type": "stream",
     "text": [
      "   run  test_accuracy\n",
      "0    0       0.526167\n",
      "1    1       0.545167\n",
      "2    2       0.532833\n",
      "3    3       0.534167\n",
      "4    4       0.542333\n",
      "5    5       0.539667\n",
      "6    6       0.537500\n",
      "7    7       0.531667\n",
      "8    8       0.532000\n",
      "9    9       0.547833\n"
     ]
    }
   ],
   "source": [
    "print(logreg_results)\n",
    "\n",
    "os.makedirs('results', exist_ok=True)\n",
    "logreg_results.to_csv(f'results/log_results_{base_feature_size}.csv')"
   ]
  },
  {
   "cell_type": "code",
   "execution_count": 18,
   "metadata": {},
   "outputs": [
    {
     "name": "stdout",
     "output_type": "stream",
     "text": [
      "Logistic Regression Accuracy: 0.5369333333333334\n",
      "Baseline to beat 0.9\n"
     ]
    }
   ],
   "source": [
    "print(\"Logistic Regression Accuracy:\", logreg_results['test_accuracy'].mean())\n",
    "print(\"Baseline to beat\", baseline_accuracy)"
   ]
  }
 ],
 "metadata": {
  "kernelspec": {
   "display_name": "base",
   "language": "python",
   "name": "python3"
  },
  "language_info": {
   "codemirror_mode": {
    "name": "ipython",
    "version": 3
   },
   "file_extension": ".py",
   "mimetype": "text/x-python",
   "name": "python",
   "nbconvert_exporter": "python",
   "pygments_lexer": "ipython3",
   "version": "3.12.3"
  }
 },
 "nbformat": 4,
 "nbformat_minor": 2
}
