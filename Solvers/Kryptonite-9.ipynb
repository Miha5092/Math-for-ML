{
 "cells": [
  {
   "cell_type": "code",
   "execution_count": 5,
   "metadata": {},
   "outputs": [
    {
     "name": "stdout",
     "output_type": "stream",
     "text": [
      "The autoreload extension is already loaded. To reload it, use:\n",
      "  %reload_ext autoreload\n"
     ]
    }
   ],
   "source": [
    "%load_ext autoreload\n",
    "\n",
    "%autoreload 2\n",
    "\n",
    "import numpy as np\n",
    "import pandas as pd\n",
    "import matplotlib.pyplot as plt\n",
    "import seaborn as sns\n",
    "import sys\n",
    "import os\n",
    "import torch\n",
    "\n",
    "sys.path.append('..')\n",
    "\n",
    "from torch import nn\n",
    "from Utils.neuralnetworks import SigmoidNeuralNetwork\n",
    "from Utils.utils import load_data, run_multiple_nn, run_multiple_forest, run_multiple_logistics\n",
    "from skorch import NeuralNetClassifier\n",
    "from sklearn.model_selection import GridSearchCV\n",
    "from sklearn.linear_model import LogisticRegression\n",
    "from sklearn.linear_model import SGDClassifier"
   ]
  },
  {
   "cell_type": "markdown",
   "metadata": {},
   "source": [
    "# Define Paramaters"
   ]
  },
  {
   "cell_type": "code",
   "execution_count": 6,
   "metadata": {},
   "outputs": [
    {
     "name": "stdout",
     "output_type": "stream",
     "text": [
      "Using device: cuda\n"
     ]
    }
   ],
   "source": [
    "base_seed = 42\n",
    "base_feature_size = 9\n",
    "baseline_accuracy = 0.95\n",
    "\n",
    "device = torch.device('cuda' if torch.cuda.is_available() else 'cpu')\n",
    "print('Using device:', device)"
   ]
  },
  {
   "cell_type": "markdown",
   "metadata": {},
   "source": [
    "# Neural Network"
   ]
  },
  {
   "cell_type": "code",
   "execution_count": 7,
   "metadata": {},
   "outputs": [],
   "source": [
    "X_train, y_train, _, _, feature_size  = load_data(base_seed, base_feature_size, discreteize=True, expand=False)"
   ]
  },
  {
   "cell_type": "markdown",
   "metadata": {},
   "source": [
    "### Performing grid search"
   ]
  },
  {
   "cell_type": "code",
   "execution_count": 8,
   "metadata": {},
   "outputs": [
    {
     "name": "stdout",
     "output_type": "stream",
     "text": [
      "Fitting 10 folds for each of 12 candidates, totalling 120 fits\n"
     ]
    },
    {
     "name": "stderr",
     "output_type": "stream",
     "text": [
      "c:\\Users\\Mihai\\miniconda3\\Lib\\site-packages\\joblib\\externals\\loky\\process_executor.py:752: UserWarning: A worker stopped while some jobs were given to the executor. This can be caused by a too short worker timeout or by a memory leak.\n",
      "  warnings.warn(\n"
     ]
    }
   ],
   "source": [
    "net = NeuralNetClassifier(\n",
    "    module=SigmoidNeuralNetwork,\n",
    "    max_epochs=50,\n",
    "    criterion=nn.BCEWithLogitsLoss,\n",
    "    optimizer=torch.optim.Adam,\n",
    "    optimizer__lr=0.01,\n",
    "    batch_size=2048,\n",
    "    module__input_size=feature_size,\n",
    "    device=device,\n",
    "    train_split=None\n",
    ")\n",
    "\n",
    "params = {\n",
    "    'optimizer__lr': [0.1, 0.01, 0.001],\n",
    "    'max_epochs': [50],\n",
    "    'batch_size': [1024],\n",
    "    'module__layer_size': [32, 64],\n",
    "    'module__layer_no': [1],\n",
    "    'optimizer__weight_decay': [1e-3, 1e-4],\n",
    "}\n",
    "\n",
    "gs = GridSearchCV(net, params, refit=False, cv=10, scoring='accuracy', n_jobs=-1, verbose=1)\n",
    "clf = gs.fit(X_train, y_train.astype(float))"
   ]
  },
  {
   "cell_type": "code",
   "execution_count": 9,
   "metadata": {},
   "outputs": [
    {
     "name": "stdout",
     "output_type": "stream",
     "text": [
      "Best parameters found:  {'batch_size': 1024, 'max_epochs': 50, 'module__layer_no': 1, 'module__layer_size': 32, 'optimizer__lr': 0.01, 'optimizer__weight_decay': 0.001}\n",
      "Best accuracy found:  0.9584722222222222\n"
     ]
    }
   ],
   "source": [
    "print(\"Best parameters found: \", gs.best_params_)\n",
    "print(\"Best accuracy found: \", gs.best_score_)"
   ]
  },
  {
   "cell_type": "markdown",
   "metadata": {},
   "source": [
    "### Assesing performance"
   ]
  },
  {
   "cell_type": "code",
   "execution_count": 10,
   "metadata": {},
   "outputs": [
    {
     "name": "stdout",
     "output_type": "stream",
     "text": [
      "Run 1 / 10 started\n",
      "Run finished with test accuracy: 0.9569444444444445\n",
      "Run 2 / 10 started\n",
      "Run finished with test accuracy: 0.9625\n",
      "Run 3 / 10 started\n",
      "Run finished with test accuracy: 0.9569444444444445\n",
      "Run 4 / 10 started\n",
      "Run finished with test accuracy: 0.9527777777777777\n",
      "Run 5 / 10 started\n",
      "Run finished with test accuracy: 0.9563888888888888\n",
      "Run 6 / 10 started\n",
      "Run finished with test accuracy: 0.9541666666666667\n",
      "Run 7 / 10 started\n",
      "Run finished with test accuracy: 0.9594444444444444\n",
      "Run 8 / 10 started\n",
      "Run finished with test accuracy: 0.9538888888888889\n",
      "Run 9 / 10 started\n",
      "Run finished with test accuracy: 0.9561111111111111\n",
      "Run 10 / 10 started\n",
      "Run finished with test accuracy: 0.9544444444444444\n"
     ]
    }
   ],
   "source": [
    "nn_results = run_multiple_nn(gs, base_feature_size=base_feature_size, device=device, no_runs=10)"
   ]
  },
  {
   "cell_type": "code",
   "execution_count": 11,
   "metadata": {},
   "outputs": [
    {
     "name": "stdout",
     "output_type": "stream",
     "text": [
      "   Seed  epoch  train_loss  train_accuracy  test_accuracy\n",
      "0     0      0    0.691470        0.529167       0.956944\n",
      "1     0      1    0.655219        0.677222       0.956944\n",
      "2     0      2    0.556533        0.765556       0.956944\n",
      "3     0      3    0.407327        0.855903       0.956944\n",
      "4     0      4    0.316696        0.893958       0.956944\n"
     ]
    }
   ],
   "source": [
    "print(nn_results.head())\n",
    "\n",
    "os.makedirs('results', exist_ok=True)\n",
    "nn_results.to_csv(f'results/nn_results_{base_feature_size}.csv')"
   ]
  },
  {
   "cell_type": "code",
   "execution_count": 12,
   "metadata": {},
   "outputs": [
    {
     "data": {
      "image/png": "[encoded data removed]",
      "text/plain": [
       "<Figure size 640x480 with 1 Axes>"
      ]
     },
     "metadata": {},
     "output_type": "display_data"
    }
   ],
   "source": [
    "sns.set_style(\"whitegrid\")\n",
    "ax = sns.lineplot(data=nn_results, x='epoch', y='train_accuracy', errorbar='sd')\n",
    "ax.set(xlabel='Training Epoch', ylabel='Training Accuracy', ylim=(0.5, 1.0), title='Training Accuracy over Epochs')\n",
    "plt.axhline(y=baseline_accuracy, color='r', linestyle='--')\n",
    "plt.show()"
   ]
  },
  {
   "cell_type": "markdown",
   "metadata": {},
   "source": [
    "# Random Forrests"
   ]
  },
  {
   "cell_type": "code",
   "execution_count": 13,
   "metadata": {},
   "outputs": [],
   "source": [
    "X_train, y_train, _, _, feature_size  = load_data(base_seed, base_feature_size, discreteize=True, expand=True)"
   ]
  },
  {
   "cell_type": "markdown",
   "metadata": {},
   "source": [
    "### Assessing Performance"
   ]
  },
  {
   "cell_type": "code",
   "execution_count": 14,
   "metadata": {},
   "outputs": [
    {
     "name": "stdout",
     "output_type": "stream",
     "text": [
      "Run 1 / 10 started\n",
      "Run finished with test accuracy: 0.9588888888888889\n",
      "Run 2 / 10 started\n",
      "Run finished with test accuracy: 0.9633333333333334\n",
      "Run 3 / 10 started\n",
      "Run finished with test accuracy: 0.9586111111111111\n",
      "Run 4 / 10 started\n",
      "Run finished with test accuracy: 0.9555555555555556\n",
      "Run 5 / 10 started\n",
      "Run finished with test accuracy: 0.9577777777777777\n",
      "Run 6 / 10 started\n",
      "Run finished with test accuracy: 0.9558333333333333\n",
      "Run 7 / 10 started\n",
      "Run finished with test accuracy: 0.9611111111111111\n",
      "Run 8 / 10 started\n",
      "Run finished with test accuracy: 0.9563888888888888\n",
      "Run 9 / 10 started\n",
      "Run finished with test accuracy: 0.9566666666666667\n",
      "Run 10 / 10 started\n",
      "Run finished with test accuracy: 0.9558333333333333\n"
     ]
    }
   ],
   "source": [
    "forrest_results = run_multiple_forest(base_feature_size, no_runs=10)"
   ]
  },
  {
   "cell_type": "code",
   "execution_count": 15,
   "metadata": {},
   "outputs": [
    {
     "name": "stdout",
     "output_type": "stream",
     "text": [
      "   run  test_accuracy\n",
      "0    0       0.958889\n",
      "1    1       0.963333\n",
      "2    2       0.958611\n",
      "3    3       0.955556\n",
      "4    4       0.957778\n",
      "5    5       0.955833\n",
      "6    6       0.961111\n",
      "7    7       0.956389\n",
      "8    8       0.956667\n",
      "9    9       0.955833\n"
     ]
    }
   ],
   "source": [
    "print(forrest_results)\n",
    "\n",
    "os.makedirs('results', exist_ok=True)\n",
    "forrest_results.to_csv(f'results/rf_results_{base_feature_size}.csv')"
   ]
  },
  {
   "cell_type": "code",
   "execution_count": 16,
   "metadata": {},
   "outputs": [
    {
     "name": "stdout",
     "output_type": "stream",
     "text": [
      "Random Forest Accuracy: 0.958\n",
      "Baseline to beat 0.95\n"
     ]
    }
   ],
   "source": [
    "print(\"Random Forest Accuracy:\", forrest_results['test_accuracy'].mean())\n",
    "print(\"Baseline to beat\", baseline_accuracy)"
   ]
  },
  {
   "cell_type": "markdown",
   "metadata": {},
   "source": [
    "# Logistic Regression"
   ]
  },
  {
   "cell_type": "code",
   "execution_count": 17,
   "metadata": {},
   "outputs": [],
   "source": [
    "X_train, y_train, _, _, feature_size  = load_data(base_seed, base_feature_size, discreteize=True, expand=True)"
   ]
  },
  {
   "cell_type": "markdown",
   "metadata": {},
   "source": [
    "### Performing Grid Search"
   ]
  },
  {
   "cell_type": "code",
   "execution_count": 18,
   "metadata": {},
   "outputs": [
    {
     "name": "stdout",
     "output_type": "stream",
     "text": [
      "Fitting 10 folds for each of 12 candidates, totalling 120 fits\n"
     ]
    }
   ],
   "source": [
    "params = {\n",
    "    'alpha': [0.1, 0.15, 0.2],\n",
    "    'max_iter': [1500],\n",
    "    'tol': [1e-3],\n",
    "    'learning_rate': ['optimal', 'constant'],\n",
    "    'eta0': [0.01, 0.001],\n",
    "}\n",
    "\n",
    "logreg = SGDClassifier(loss='log_loss', n_jobs=-1)\n",
    "\n",
    "gs = GridSearchCV(logreg, params, refit=False, cv=10, scoring='accuracy', n_jobs=-1, verbose=1)\n",
    "clf = gs.fit(X_train, y_train.astype(float))"
   ]
  },
  {
   "cell_type": "code",
   "execution_count": 19,
   "metadata": {},
   "outputs": [
    {
     "name": "stdout",
     "output_type": "stream",
     "text": [
      "Best parameters found:  {'alpha': 0.1, 'eta0': 0.01, 'learning_rate': 'optimal', 'max_iter': 1500, 'tol': 0.001}\n",
      "Best accuracy found:  0.9584722222222222\n"
     ]
    }
   ],
   "source": [
    "print(\"Best parameters found: \", gs.best_params_)\n",
    "print(\"Best accuracy found: \", gs.best_score_)"
   ]
  },
  {
   "cell_type": "markdown",
   "metadata": {},
   "source": [
    "### Assessing Performance"
   ]
  },
  {
   "cell_type": "code",
   "execution_count": 20,
   "metadata": {},
   "outputs": [
    {
     "name": "stdout",
     "output_type": "stream",
     "text": [
      "Run 1 / 10 started\n",
      "Run finished with test accuracy: 0.9588888888888889\n",
      "Run 2 / 10 started\n",
      "Run finished with test accuracy: 0.9633333333333334\n",
      "Run 3 / 10 started\n",
      "Run finished with test accuracy: 0.9586111111111111\n",
      "Run 4 / 10 started\n",
      "Run finished with test accuracy: 0.9555555555555556\n",
      "Run 5 / 10 started\n",
      "Run finished with test accuracy: 0.9577777777777777\n",
      "Run 6 / 10 started\n",
      "Run finished with test accuracy: 0.9558333333333333\n",
      "Run 7 / 10 started\n",
      "Run finished with test accuracy: 0.9611111111111111\n",
      "Run 8 / 10 started\n",
      "Run finished with test accuracy: 0.9563888888888888\n",
      "Run 9 / 10 started\n",
      "Run finished with test accuracy: 0.9566666666666667\n",
      "Run 10 / 10 started\n",
      "Run finished with test accuracy: 0.9558333333333333\n"
     ]
    }
   ],
   "source": [
    "logreg_results = run_multiple_logistics(gs, base_feature_size, no_runs=10)"
   ]
  },
  {
   "cell_type": "code",
   "execution_count": 21,
   "metadata": {},
   "outputs": [
    {
     "name": "stdout",
     "output_type": "stream",
     "text": [
      "   run  test_accuracy\n",
      "0    0       0.958889\n",
      "1    1       0.963333\n",
      "2    2       0.958611\n",
      "3    3       0.955556\n",
      "4    4       0.957778\n",
      "5    5       0.955833\n",
      "6    6       0.961111\n",
      "7    7       0.956389\n",
      "8    8       0.956667\n",
      "9    9       0.955833\n"
     ]
    }
   ],
   "source": [
    "print(logreg_results)\n",
    "\n",
    "os.makedirs('results', exist_ok=True)\n",
    "logreg_results.to_csv(f'results/log_results_{base_feature_size}.csv')"
   ]
  },
  {
   "cell_type": "code",
   "execution_count": 22,
   "metadata": {},
   "outputs": [
    {
     "name": "stdout",
     "output_type": "stream",
     "text": [
      "Logistic Regression Accuracy: 0.958\n",
      "Baseline to beat 0.95\n"
     ]
    }
   ],
   "source": [
    "print(\"Logistic Regression Accuracy:\", logreg_results['test_accuracy'].mean())\n",
    "print(\"Baseline to beat\", baseline_accuracy)"
   ]
  },
  {
   "cell_type": "code",
   "execution_count": null,
   "metadata": {},
   "outputs": [],
   "source": []
  }
 ],
 "metadata": {
  "kernelspec": {
   "display_name": "base",
   "language": "python",
   "name": "python3"
  },
  "language_info": {
   "codemirror_mode": {
    "name": "ipython",
    "version": 3
   },
   "file_extension": ".py",
   "mimetype": "text/x-python",
   "name": "python",
   "nbconvert_exporter": "python",
   "pygments_lexer": "ipython3",
   "version": "3.12.3"
  }
 },
 "nbformat": 4,
 "nbformat_minor": 2
}
