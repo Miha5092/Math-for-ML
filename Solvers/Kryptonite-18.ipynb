{
 "cells": [
  {
   "cell_type": "code",
   "execution_count": 1,
   "metadata": {},
   "outputs": [],
   "source": [
    "%load_ext autoreload\n",
    "\n",
    "%autoreload 2\n",
    "\n",
    "import numpy as np\n",
    "import pandas as pd\n",
    "import matplotlib.pyplot as plt\n",
    "import seaborn as sns\n",
    "import sys\n",
    "import os\n",
    "import torch\n",
    "\n",
    "sys.path.append('..')\n",
    "\n",
    "from torch import nn\n",
    "from Utils.NeuralNetworks import SigmoidNeuralNetwork\n",
    "from Utils.utils import load_data, run_multiple_nn, run_multiple_forest, run_multiple_logistics\n",
    "from skorch import NeuralNetClassifier\n",
    "from sklearn.model_selection import GridSearchCV\n",
    "from sklearn.linear_model import LogisticRegression\n",
    "from sklearn.linear_model import SGDClassifier"
   ]
  },
  {
   "cell_type": "markdown",
   "metadata": {},
   "source": [
    "# Define Paramaters"
   ]
  },
  {
   "cell_type": "code",
   "execution_count": 2,
   "metadata": {},
   "outputs": [
    {
     "name": "stdout",
     "output_type": "stream",
     "text": [
      "Using device: cpu\n"
     ]
    }
   ],
   "source": [
    "base_seed = 42\n",
    "base_feature_size = 18\n",
    "baseline_accuracy = 0.875\n",
    "\n",
    "device = torch.device('cuda' if torch.cuda.is_available() else 'cpu')\n",
    "print('Using device:', device)"
   ]
  },
  {
   "cell_type": "markdown",
   "metadata": {},
   "source": [
    "# Neural Network"
   ]
  },
  {
   "cell_type": "code",
   "execution_count": 3,
   "metadata": {},
   "outputs": [],
   "source": [
    "X_train, y_train, _, _, feature_size  = load_data(base_seed, base_feature_size, discreteize=True, expand=False)"
   ]
  },
  {
   "cell_type": "markdown",
   "metadata": {},
   "source": [
    "### Performing grid search"
   ]
  },
  {
   "cell_type": "code",
   "execution_count": 4,
   "metadata": {},
   "outputs": [
    {
     "name": "stdout",
     "output_type": "stream",
     "text": [
      "Fitting 10 folds for each of 24 candidates, totalling 240 fits\n"
     ]
    }
   ],
   "source": [
    "net = NeuralNetClassifier(\n",
    "    module=SigmoidNeuralNetwork,\n",
    "    max_epochs=50,\n",
    "    criterion=nn.BCEWithLogitsLoss,\n",
    "    optimizer=torch.optim.Adam,\n",
    "    optimizer__lr=0.01,\n",
    "    batch_size=2048,\n",
    "    module__input_size=feature_size,\n",
    "    device=device,\n",
    "    train_split=None\n",
    ")\n",
    "\n",
    "params = {\n",
    "    'optimizer__lr': [0.1, 0.01, 0.001],\n",
    "    'max_epochs': [50],\n",
    "    'batch_size': [1024],\n",
    "    'module__layer_size': [64, 128],\n",
    "    'module__layer_no': [1, 2],\n",
    "    'optimizer__weight_decay': [1e-3, 1e-2],\n",
    "}\n",
    "\n",
    "gs = GridSearchCV(net, params, refit=False, cv=10, scoring='accuracy', n_jobs=-1, verbose=1)\n",
    "clf = gs.fit(X_train, y_train.astype(float))"
   ]
  },
  {
   "cell_type": "code",
   "execution_count": null,
   "metadata": {},
   "outputs": [
    {
     "name": "stdout",
     "output_type": "stream",
     "text": [
      "Fitting 10 folds for each of 24 candidates, totalling 240 fits\n"
     ]
    }
   ],
   "source": [
    "net = NeuralNetClassifier(\n",
    "    module=SigmoidNeuralNetwork,\n",
    "    max_epochs=50,\n",
    "    criterion=nn.BCEWithLogitsLoss,\n",
    "    optimizer=torch.optim.Adam,\n",
    "    optimizer__lr=0.01,\n",
    "    batch_size=2048,\n",
    "    module__input_size=feature_size,\n",
    "    device=device,\n",
    "    train_split=None\n",
    ")\n",
    "\n",
    "params = {\n",
    "    'optimizer__lr': [0.1, 0.01, 0.001],\n",
    "    'max_epochs': [50],\n",
    "    'batch_size': [2048],\n",
    "    'module__layer_size': [64, 128],\n",
    "    'module__layer_no': [1, 2],\n",
    "    'optimizer__weight_decay': [1e-3, 1e-2],\n",
    "}\n",
    "\n",
    "gs = GridSearchCV(net, params, refit=False, cv=10, scoring='accuracy', n_jobs=-1, verbose=1)\n",
    "clf = gs.fit(X_train, y_train.astype(float))"
   ]
  },
  {
   "cell_type": "code",
   "execution_count": 5,
   "metadata": {},
   "outputs": [
    {
     "name": "stdout",
     "output_type": "stream",
     "text": [
      "Best parameters found:  {'batch_size': 1024, 'max_epochs': 50, 'module__layer_no': 1, 'module__layer_size': 128, 'optimizer__lr': 0.001, 'optimizer__weight_decay': 0.001}\n",
      "Best accuracy found:  0.9488194444444444\n"
     ]
    }
   ],
   "source": [
    "print(\"Best parameters found: \", gs.best_params_)\n",
    "print(\"Best accuracy found: \", gs.best_score_)"
   ]
  },
  {
   "cell_type": "markdown",
   "metadata": {},
   "source": [
    "### Assesing performance"
   ]
  },
  {
   "cell_type": "code",
   "execution_count": 6,
   "metadata": {},
   "outputs": [
    {
     "name": "stdout",
     "output_type": "stream",
     "text": [
      "Run 1 / 10 started\n",
      "Run finished with test accuracy: 0.8966666666666666\n",
      "Run 2 / 10 started\n",
      "Run finished with test accuracy: 0.8994444444444445\n",
      "Run 3 / 10 started\n",
      "Run finished with test accuracy: 0.8927777777777778\n",
      "Run 4 / 10 started\n",
      "Run finished with test accuracy: 0.9136111111111112\n",
      "Run 5 / 10 started\n",
      "Run finished with test accuracy: 0.8840277777777777\n",
      "Run 6 / 10 started\n",
      "Run finished with test accuracy: 0.91125\n",
      "Run 7 / 10 started\n",
      "Run finished with test accuracy: 0.9026388888888889\n",
      "Run 8 / 10 started\n",
      "Run finished with test accuracy: 0.9048611111111111\n",
      "Run 9 / 10 started\n",
      "Run finished with test accuracy: 0.8573611111111111\n",
      "Run 10 / 10 started\n",
      "Run finished with test accuracy: 0.8808333333333334\n"
     ]
    }
   ],
   "source": [
    "nn_results = run_multiple_nn(gs, base_feature_size=base_feature_size, device=device, no_runs=10)"
   ]
  },
  {
   "cell_type": "code",
   "execution_count": 7,
   "metadata": {},
   "outputs": [
    {
     "name": "stdout",
     "output_type": "stream",
     "text": [
      "   Seed  epoch  train_loss  train_accuracy  test_accuracy\n",
      "0     0      0    0.694018        0.496285       0.896667\n",
      "1     0      1    0.692243        0.520000       0.896667\n",
      "2     0      2    0.691908        0.524479       0.896667\n",
      "3     0      3    0.691616        0.525625       0.896667\n",
      "4     0      4    0.691387        0.525660       0.896667\n"
     ]
    }
   ],
   "source": [
    "print(nn_results.head())\n",
    "\n",
    "os.makedirs('results', exist_ok=True)\n",
    "nn_results.to_csv(f'results/nn_results_{base_feature_size}.csv')"
   ]
  },
  {
   "cell_type": "code",
   "execution_count": 8,
   "metadata": {},
   "outputs": [
    {
     "data": {
      "image/png": "[encoded data removed]",
      "text/plain": [
       "<Figure size 640x480 with 1 Axes>"
      ]
     },
     "metadata": {},
     "output_type": "display_data"
    }
   ],
   "source": [
    "sns.set_style(\"whitegrid\")\n",
    "ax = sns.lineplot(data=nn_results, x='epoch', y='train_accuracy', errorbar='sd')\n",
    "ax.set(xlabel='Training Epoch', ylabel='Training Accuracy', ylim=(0.5, 1.0), title='Training Accuracy over Epochs')\n",
    "plt.axhline(y=baseline_accuracy, color='r', linestyle='--')\n",
    "plt.show()"
   ]
  },
  {
   "cell_type": "markdown",
   "metadata": {},
   "source": [
    "# Random Forrests"
   ]
  },
  {
   "cell_type": "code",
   "execution_count": 9,
   "metadata": {},
   "outputs": [],
   "source": [
    "X_train, y_train, _, _, feature_size  = load_data(base_seed, base_feature_size, discreteize=True, expand=True)"
   ]
  },
  {
   "cell_type": "markdown",
   "metadata": {},
   "source": [
    "### Assessing Performance"
   ]
  },
  {
   "cell_type": "code",
   "execution_count": 10,
   "metadata": {},
   "outputs": [
    {
     "name": "stdout",
     "output_type": "stream",
     "text": [
      "Run 1 / 10 started\n",
      "Run finished with test accuracy: 0.9709722222222222\n",
      "Run 2 / 10 started\n",
      "Run finished with test accuracy: 0.9730555555555556\n",
      "Run 3 / 10 started\n",
      "Run finished with test accuracy: 0.9701388888888889\n",
      "Run 4 / 10 started\n",
      "Run finished with test accuracy: 0.9690277777777778\n",
      "Run 5 / 10 started\n",
      "Run finished with test accuracy: 0.9716666666666667\n",
      "Run 6 / 10 started\n",
      "Run finished with test accuracy: 0.9709722222222222\n",
      "Run 7 / 10 started\n",
      "Run finished with test accuracy: 0.9731944444444445\n",
      "Run 8 / 10 started\n",
      "Run finished with test accuracy: 0.97125\n",
      "Run 9 / 10 started\n",
      "Run finished with test accuracy: 0.9706944444444444\n",
      "Run 10 / 10 started\n",
      "Run finished with test accuracy: 0.9691666666666666\n"
     ]
    }
   ],
   "source": [
    "forrest_results = run_multiple_forest(base_feature_size, no_runs=10)"
   ]
  },
  {
   "cell_type": "code",
   "execution_count": 11,
   "metadata": {},
   "outputs": [
    {
     "name": "stdout",
     "output_type": "stream",
     "text": [
      "   run  test_accuracy\n",
      "0    0       0.970972\n",
      "1    1       0.973056\n",
      "2    2       0.970139\n",
      "3    3       0.969028\n",
      "4    4       0.971667\n",
      "5    5       0.970972\n",
      "6    6       0.973194\n",
      "7    7       0.971250\n",
      "8    8       0.970694\n",
      "9    9       0.969167\n"
     ]
    }
   ],
   "source": [
    "print(forrest_results)\n",
    "\n",
    "os.makedirs('results', exist_ok=True)\n",
    "forrest_results.to_csv(f'results/rf_results_{base_feature_size}.csv')"
   ]
  },
  {
   "cell_type": "code",
   "execution_count": 12,
   "metadata": {},
   "outputs": [
    {
     "name": "stdout",
     "output_type": "stream",
     "text": [
      "Random Forest Accuracy: 0.9710138888888888\n",
      "Baseline to beat 0.875\n"
     ]
    }
   ],
   "source": [
    "print(\"Random Forest Accuracy:\", forrest_results['test_accuracy'].mean())\n",
    "print(\"Baseline to beat\", baseline_accuracy)"
   ]
  }
 ],
 "metadata": {
  "kernelspec": {
   "display_name": "reinforcement-learning",
   "language": "python",
   "name": "python3"
  },
  "language_info": {
   "codemirror_mode": {
    "name": "ipython",
    "version": 3
   },
   "file_extension": ".py",
   "mimetype": "text/x-python",
   "name": "python",
   "nbconvert_exporter": "python",
   "pygments_lexer": "ipython3",
   "version": "3.10.15"
  }
 },
 "nbformat": 4,
 "nbformat_minor": 2
}
